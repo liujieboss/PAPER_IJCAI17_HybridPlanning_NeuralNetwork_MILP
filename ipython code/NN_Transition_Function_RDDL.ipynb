{
 "cells": [
  {
   "cell_type": "code",
   "execution_count": null,
   "metadata": {
    "collapsed": true
   },
   "outputs": [],
   "source": [
    "!pip --quiet install keras\n",
    "!pip --quiet install h5py\n",
    "!pip --quiet install shapely\n",
    "!pip --quiet install descartes\n",
    "!pip --quiet install tqdm\n",
    "!pip --quiet install tensorflow"
   ]
  },
  {
   "cell_type": "code",
   "execution_count": 1,
   "metadata": {
    "collapsed": false
   },
   "outputs": [
    {
     "name": "stderr",
     "output_type": "stream",
     "text": [
      "Using TensorFlow backend.\n"
     ]
    }
   ],
   "source": [
    "%matplotlib inline\n",
    "import random\n",
    "import os\n",
    "import json\n",
    "import sys\n",
    "import string\n",
    "import unicodedata\n",
    "from tqdm import tqdm\n",
    "import pandas as pd\n",
    "#Numpy and Scipy\n",
    "import numpy as np\n",
    "from numpy import genfromtxt\n",
    "import matplotlib.pyplot as plt\n",
    "from scipy.spatial import distance\n",
    "#KERAS\n",
    "from keras.layers import Dense, Activation,Dropout\n",
    "from keras.models import Sequential\n",
    "from keras.regularizers import l1,l2\n",
    "from keras.models import load_model"
   ]
  },
  {
   "cell_type": "code",
   "execution_count": 2,
   "metadata": {
    "collapsed": true
   },
   "outputs": [],
   "source": [
    "#Given local path, find full path\n",
    "def PathFinder(path):\n",
    "    script_dir = os.path.dirname('__file__')\n",
    "    fullpath = os.path.join(script_dir,path)\n",
    "    return fullpath\n",
    "\n",
    "#Read Data for Deep Learning\n",
    "def ReadData(path):\n",
    "    fullpath=PathFinder(path)\n",
    "    return pd.read_csv(fullpath, sep=',', header=0)\n",
    "\n",
    "#Input Normalization\n",
    "def Normalize(features, mean = [], std = []):\n",
    "    if mean == []:\n",
    "        mean = np.mean(features, axis = 0)\n",
    "        std = np.std(features, axis = 0)\n",
    "#     print std\n",
    "#     print std[:,None]\n",
    "    new_feature = (features.T - mean[:,None]).T\n",
    "    new_feature = (new_feature.T / std[:,None]).T\n",
    "    new_feature[np.isnan(new_feature)]=0\n",
    "#     print new_feature\n",
    "    return new_feature, mean, std"
   ]
  },
  {
   "cell_type": "code",
   "execution_count": 3,
   "metadata": {
    "collapsed": true
   },
   "outputs": [],
   "source": [
    "import tensorflow as tf\n",
    "tf.python.control_flow_ops = tf\n",
    "class FullyConnectedDeepNet(object):\n",
    "    '''\n",
    "\n",
    "    '''\n",
    "    def __init__(self,observ,hidden,output,num_layers,drop_out):\n",
    "        self.drop_out=drop_out\n",
    "        self.DeepNet = Sequential()\n",
    "        #self.Autoencoder.add(Dropout(0.5, input_shape=(observ,)))\n",
    "        self.DeepNet.add(Sequential([Dense(hidden, input_dim=observ), Activation('relu')]))\n",
    "        self.DeepNet.add(Dropout(drop_out))\n",
    "        if num_layers > 1:\n",
    "            for i in range(num_layers-1):\n",
    "                self.DeepNet.add(Sequential([Dense(hidden, input_dim=hidden), Activation('relu')]))\n",
    "                self.DeepNet.add(Dropout(drop_out))\n",
    "        self.DeepNet.add(Dense(output, input_dim=hidden))\n",
    "        self.DeepNet.compile(optimizer='rmsprop', loss='mse')\n",
    "    \n",
    "    def Train(self,data,label,epoch, normalize=False):\n",
    "        mean=[]\n",
    "        std=[]\n",
    "        if normalize:\n",
    "            normalized_data,mean,std=Normalize(data)\n",
    "        else:\n",
    "            normalized_data=data\n",
    "        self.DeepNet.fit(normalized_data, label, nb_epoch=epoch)\n",
    "        return mean,std\n",
    "\n",
    "    def Test(self,datapoint,normalize=False,mean=[],std=[]):\n",
    "        if normalize:\n",
    "            normalized_datapoint,_,_=Normalize(datapoint,mean,std)\n",
    "        else:\n",
    "            normalized_datapoint=datapoint\n",
    "        return self.DeepNet.predict(normalized_datapoint, batch_size=128, verbose=0)\n",
    "    \n",
    "    def LoadModel(self,modelpath):\n",
    "        self.DeepNet=load_model(modelpath)\n",
    "    \n",
    "    def Save(self,modelpath):\n",
    "        self.DeepNet.save(modelpath)\n",
    "        \n",
    "    def GetModel(self):\n",
    "        return self.DeepNet"
   ]
  },
  {
   "cell_type": "code",
   "execution_count": 4,
   "metadata": {
    "collapsed": true
   },
   "outputs": [],
   "source": [
    "from theano.tensor.nnet import relu\n",
    "\n",
    "def Interm_Distribution(layers,data):\n",
    "    weights_bias=[]\n",
    "    mean_matrix=[]\n",
    "    std_matrix=[]\n",
    "    for layer in layers: \n",
    "        if type(layer) is not Dropout:\n",
    "            weights_bias.append(layer.get_weights())\n",
    "    m,n=np.array(weights_bias).shape\n",
    "    previous_LayerOutput=data\n",
    "    for i in range(m):\n",
    "        LayerOutput = relu(np.dot(previous_LayerOutput,weights_bias[i][0])+np.array(weights_bias[i][1]))\n",
    "        previous_LayerOutput=LayerOutput\n",
    "        mean_matrix.append(np.mean(LayerOutput, axis=0))\n",
    "        std_matrix.append(np.std(LayerOutput, axis=0))\n",
    "    return mean_matrix,std_matrix\n",
    "\n",
    "def write_Interm_Ditribution(means,stds, filepath,hiddenstart='N'):\n",
    "    fullpath=PathFinder(filepath)\n",
    "    filehandler = open(fullpath,'w')\n",
    "    for i in range(len(means)-1):\n",
    "        row = []\n",
    "        for j in range(len(means[i])):\n",
    "            row.append(hiddenstart+str(i+1)+str(j))\n",
    "            row.append(means[i][j])\n",
    "            row.append(stds[i][j])\n",
    "        filehandler.write(','.join(map(str, row))+'\\n')\n",
    "    filehandler.close()\n",
    "    print 'Interm Distribution Done!'"
   ]
  },
  {
   "cell_type": "code",
   "execution_count": 16,
   "metadata": {
    "collapsed": false
   },
   "outputs": [],
   "source": [
    "class NetTopology(object):\n",
    "    def __init__(self,layers,normalized=False,mean=[],std=[],train_type='regular'):\n",
    "        self.layers=layers\n",
    "        self.input_dim=layers[0].get_config()[0].get('config').get('input_dim')\n",
    "        self.num_upper_layers=len(layers)\n",
    "        self.mean=mean\n",
    "        self.std=std\n",
    "        self.train_type=train_type\n",
    "        self.nodenames=[]\n",
    "        layernodename=[]\n",
    "        for i in range(0, self.input_dim):\n",
    "            layernodename.append('N0'+str(i))\n",
    "        layernodename.append('B0')\n",
    "        self.nodenames.append(layernodename)\n",
    "        \n",
    "    def LayerWiseTransform(self,layer,layer_id, lastlayer=False, hiddenstart='N', writefile=False, filehandler=None):\n",
    "        if not lastlayer:\n",
    "            input_dim = layer.get_config()[0].get('config').get('input_dim')\n",
    "            output_dim = layer.get_config()[0].get('config').get('output_dim')\n",
    "            activation = layer.get_config()[1].get('config').get('activation')\n",
    "        else:\n",
    "            input_dim = layer.get_config().get('input_dim')\n",
    "            output_dim = layer.get_config().get('output_dim')\n",
    "            #activation = layer.get_config().get('activation')\n",
    "            activation = self.train_type\n",
    "        layernodename=[]\n",
    "        weights_bias=layer.get_weights()\n",
    "        weights=weights_bias[0]\n",
    "        bias=weights_bias[1]\n",
    "        for i in range(0, output_dim):\n",
    "            layernodename.append(hiddenstart+str(layer_id)+str(i))\n",
    "        for i in range(0, output_dim):\n",
    "            row = [layernodename[i],activation]\n",
    "            for j in range(0, input_dim):\n",
    "                row.append(self.nodenames[-1][j])\n",
    "                row.append(weights[j][i])\n",
    "            row.append(self.nodenames[-1][-1])\n",
    "            row.append(bias[i])\n",
    "            if writefile:\n",
    "                filehandler.write(','.join(map(str, row))+'\\n')\n",
    "            else:\n",
    "                print ','.join(map(str, row))\n",
    "        layernodename.append('B'+str(layer_id))\n",
    "        self.nodenames.append(layernodename)\n",
    "        \n",
    "    def NetTransform(self,hiddenstart='N', writefile=False, filepath=None,overwrite=False):\n",
    "        filehandler=None\n",
    "        if writefile:\n",
    "            fullpath=PathFinder(filepath)\n",
    "            if overwrite is True:\n",
    "                filehandler = open(fullpath,'w')\n",
    "            else:\n",
    "                filehandler = open(fullpath,'a')\n",
    "        counter=0\n",
    "        for i in range(0,self.num_upper_layers):\n",
    "            if type(self.layers[i]) is not Dropout:\n",
    "                if (i==self.num_upper_layers-1):\n",
    "                    self.LayerWiseTransform(self.layers[i],counter+1, True, hiddenstart, writefile, filehandler)\n",
    "                else:\n",
    "                    self.LayerWiseTransform(self.layers[i],counter+1, False, hiddenstart, writefile, filehandler)\n",
    "                counter=counter+1\n",
    "        if writefile:\n",
    "            if not overwrite:\n",
    "                filehandler.write('\\n')\n",
    "                filehandler.write('MEAN:\\n')\n",
    "                filehandler.write(','.join(map(str, self.mean))+'\\n')\n",
    "                filehandler.write('STD:\\n')\n",
    "                filehandler.write(','.join(map(str, self.std))+'\\n')\n",
    "            filehandler.close()\n",
    "        else:\n",
    "            if not overwrite:\n",
    "                print \"MEAN:\"\n",
    "                print ','.join(map(str, self.mean))\n",
    "                print \"STD:\"\n",
    "                print ','.join(map(str, self.std))\n",
    "        print 'Network Dumping Done!'"
   ]
  },
  {
   "cell_type": "code",
   "execution_count": 24,
   "metadata": {
    "collapsed": false
   },
   "outputs": [],
   "source": [
    "def writeNormInfo(mean_DNN,std_DNN,problem):\n",
    "    fullpath = PathFinder('Network_Normalization_'+problem+'.txt');\n",
    "    filehandler = open(fullpath,'w')\n",
    "    filehandler.write(','.join(map(str, mean_DNN))+'\\n')\n",
    "    filehandler.write(','.join(map(str, std_DNN))+'\\n')\n",
    "    filehandler.close()\n",
    "    print 'Normalization File Complete!'"
   ]
  },
  {
   "cell_type": "code",
   "execution_count": 28,
   "metadata": {
    "collapsed": true
   },
   "outputs": [],
   "source": [
    "def inPutFiles(PD_Data,PD_Label,Input_Num,Output_Num,Hidden_Head, Net_Depth, Problem,Type):#Type in {Regular,Delta}\n",
    "    Headers=list(PD_Data.columns.values)+list(PD_Label.columns.values)\n",
    "    fullpath=PathFinder(\"Headers_RDDL_\"+Problem+\".txt\")\n",
    "    filehandler = open(fullpath,'w')\n",
    "    for i in range(Input_Num):\n",
    "        filehandler.write('N0'+str(i)+','+Headers[i].replace(':', ',')+'\\n') \n",
    "    for i in range(Output_Num):\n",
    "        filehandler.write(Hidden_Head+str(Net_Depth)+str(i)+','+Type+','+Headers[i+Input_Num].replace(':', ',')+'\\n') \n",
    "    filehandler.close()\n",
    "    print 'Headers File Complete!'"
   ]
  },
  {
   "cell_type": "code",
   "execution_count": 29,
   "metadata": {
    "collapsed": false
   },
   "outputs": [
    {
     "name": "stdout",
     "output_type": "stream",
     "text": [
      "Headers File Complete!\n",
      "Epoch 1/5\n",
      "9000/9000 [==============================] - 1s - loss: 19364.0470     \n",
      "Epoch 2/5\n",
      "9000/9000 [==============================] - 1s - loss: 10520.7359     \n",
      "Epoch 3/5\n",
      "9000/9000 [==============================] - 1s - loss: 4862.5265     \n",
      "Epoch 4/5\n",
      "9000/9000 [==============================] - 1s - loss: 4180.3002     \n",
      "Epoch 5/5\n",
      "9000/9000 [==============================] - 1s - loss: 2808.1046     \n",
      "Normalization File Complete!\n",
      "Network Dumping Done!\n",
      "Interm Distribution Done!\n"
     ]
    }
   ],
   "source": [
    "def trainNetForData(Datapath,Labelpath,node_size,layer_num,train_type,problem):\n",
    "    PD_Data = ReadData(Datapath)\n",
    "    PD_Label = ReadData(Labelpath)\n",
    "    Full_Data=PD_Data.as_matrix()\n",
    "    Full_Label=PD_Label.as_matrix()\n",
    "    indecs=np.random.permutation(len(Full_Data))\n",
    "    Full_Data=Full_Data[indecs]\n",
    "    Full_Label=Full_Label[indecs]\n",
    "    m_data,n_data=Full_Data.shape\n",
    "    m_label,n_label=Full_Label.shape\n",
    "    inPutFiles(PD_Data,PD_Label,n_data,n_label,'D',layer_num+1,problem,train_type)#Could be Delta\n",
    "    Train_Data = Full_Data[:int(m_data*0.9)]\n",
    "    Train_Label = Full_Label[:int(m_data*0.9)]\n",
    "    Test_Data = Full_Data[int(m_data*0.9):]\n",
    "    Test_Label = Full_Label[int(m_data*0.9):]    \n",
    "    DNN=FullyConnectedDeepNet(n_data,node_size,n_label,layer_num,0.1)\n",
    "    mean_DNN,std_DNN=DNN.Train(Train_Data, Train_Label,500,True)\n",
    "    writeNormInfo(mean_DNN,std_DNN,problem)\n",
    "    Topo=NetTopology(DNN.GetModel().layers,True, mean_DNN, std_DNN,train_type)\n",
    "    Topo.NetTransform('D',True, \"Network_RDD_\"+problem+\".txt\",True)\n",
    "    mean_Matrix,std_Matrix=Interm_Distribution(DNN.GetModel().layers,Train_Data)\n",
    "    write_Interm_Ditribution(mean_Matrix,std_Matrix,'Interm_Distribution_RDD_'+problem+'.txt','D')\n",
    "\n",
    "Datapath=\"Inventory_Data.txt\"\n",
    "Labelpath=\"Inventory_Label.txt\"\n",
    "trainNetForData(Datapath,Labelpath,32,4,'regular','Inventory')"
   ]
  },
  {
   "cell_type": "code",
   "execution_count": null,
   "metadata": {
    "collapsed": true
   },
   "outputs": [],
   "source": []
  }
 ],
 "metadata": {
  "kernelspec": {
   "display_name": "Python 2",
   "language": "python",
   "name": "python2"
  },
  "language_info": {
   "codemirror_mode": {
    "name": "ipython",
    "version": 2
   },
   "file_extension": ".py",
   "mimetype": "text/x-python",
   "name": "python",
   "nbconvert_exporter": "python",
   "pygments_lexer": "ipython2",
   "version": "2.7.10"
  }
 },
 "nbformat": 4,
 "nbformat_minor": 1
}

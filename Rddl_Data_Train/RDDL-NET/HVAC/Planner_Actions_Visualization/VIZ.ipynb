{
 "cells": [
  {
   "cell_type": "code",
   "execution_count": 9,
   "metadata": {
    "collapsed": true
   },
   "outputs": [],
   "source": [
    "%matplotlib inline\n",
    "import random\n",
    "import os\n",
    "import json\n",
    "import sys\n",
    "import string\n",
    "import unicodedata\n",
    "from tqdm import tqdm\n",
    "import pandas as pd\n",
    "import numpy as np\n",
    "import matplotlib.pyplot as plt\n",
    "import matplotlib.patches as patches\n",
    "import matplotlib as mpl"
   ]
  },
  {
   "cell_type": "code",
   "execution_count": 19,
   "metadata": {
    "collapsed": true
   },
   "outputs": [],
   "source": [
    "#Given local path, find full path\n",
    "def PathFinder(path):\n",
    "    script_dir = os.path.dirname('__file__')\n",
    "    fullpath = os.path.join(script_dir,path)\n",
    "    return fullpath\n",
    "\n",
    "#Read Data for Deep Learning\n",
    "def ReadData(path):\n",
    "    fullpath=PathFinder(path)\n",
    "    return pd.read_csv(fullpath, sep=',', header=0)"
   ]
  },
  {
   "cell_type": "code",
   "execution_count": 40,
   "metadata": {
    "collapsed": true
   },
   "outputs": [],
   "source": [
    "from matplotlib.ticker import ScalarFormatter\n",
    "def performanceViz(FIX,OPT):\n",
    "    horizon,dim=FIX.shape\n",
    "    fig, axes = plt.subplots(nrows=dim, ncols=1, figsize=(4, 4))\n",
    "    y_formatter = ScalarFormatter(useOffset=False)\n",
    "    for i in range(dim):\n",
    "        for j in range(horizon-1):\n",
    "            axes[i].plot([j,j+1],[FIX[j,i],FIX[j+1,i]],'r-',lw=1.5)\n",
    "            axes[i].plot([j,j+1],[OPT[j,i],OPT[j+1,i]],'b-.',lw=1.5)\n",
    "            axes[i].yaxis.set_major_formatter(y_formatter)\n",
    "            axes[i].locator_params(axis='y',nbins=5)\n",
    "            axes[i].locator_params(axis='y',nbins=2)\n",
    "        axes[i].yaxis.tick_right()\n",
    "        if(i!=dim-1):\n",
    "            axes[i].tick_params(axis='x', which='both',bottom='off',top='off',labelbottom='off',length=0)\n",
    "    axes[0].set_ylabel('Temp1')\n",
    "    axes[1].set_ylabel('Temp2')\n",
    "    axes[2].set_ylabel('Temp3')\n",
    "    axes[3].set_ylabel('Air1')\n",
    "    axes[4].set_ylabel('Air2')\n",
    "    axes[5].set_ylabel('Air3')\n",
    "    axes[0].set_ylim(10, 30)\n",
    "    axes[1].set_ylim(10, 30)\n",
    "    axes[2].set_ylim(10, 30)\n",
    "    axes[3].set_ylim(0, 11)\n",
    "    axes[4].set_ylim(0, 11)\n",
    "    axes[5].set_ylim(0, 11)\n",
    "    plt.xlabel('Time Step')\n",
    "    fig.subplots_adjust(hspace=0.4)\n",
    "    plt.savefig('Comparison.eps',format='eps')"
   ]
  },
  {
   "cell_type": "code",
   "execution_count": 37,
   "metadata": {
    "collapsed": false
   },
   "outputs": [
    {
     "data": {
      "text/plain": [
       "array([[ 10.        ,  10.        ,  10.        ,   2.        ,\n",
       "          2.        ,   2.        ],\n",
       "       [ 13.735     ,  13.735     ,  13.7725    ,  10.        ,\n",
       "         10.        ,  10.        ],\n",
       "       [ 16.89558938,  16.96562062,  16.99924875,  10.        ,\n",
       "         10.        ,  10.        ],\n",
       "       [ 19.57097798,  19.75908778,  19.75921324,  10.        ,\n",
       "         10.        ,  10.        ],\n",
       "       [ 21.83637995,  22.17382451,  22.11993726,  10.        ,\n",
       "         10.        ,  10.        ],\n",
       "       [ 21.47115678,  22.0189338 ,  21.89077452,   0.        ,\n",
       "          0.        ,   0.        ],\n",
       "       [ 21.49035227,  21.8631235 ,  21.66539367,   1.59338981,\n",
       "          0.        ,   0.        ],\n",
       "       [ 21.47959578,  21.70965254,  21.55832311,   1.4837013 ,\n",
       "          0.        ,   0.48346472],\n",
       "       [ 21.48166559,  21.61222468,  21.59621331,   1.54516695,\n",
       "          0.23055692,   1.09529649],\n",
       "       [ 21.48035208,  21.64668022,  21.58133739,   1.53333947,\n",
       "          0.78728755,   0.87878111],\n",
       "       [ 21.48103388,  21.6343219 ,  21.58711736,   1.54084523,\n",
       "          0.59039875,   0.96378635]])"
      ]
     },
     "execution_count": 37,
     "metadata": {},
     "output_type": "execute_result"
    }
   ],
   "source": [
    "fix=ReadData('HVAC_FIX.txt').as_matrix()\n",
    "fix"
   ]
  },
  {
   "cell_type": "code",
   "execution_count": 38,
   "metadata": {
    "collapsed": false
   },
   "outputs": [
    {
     "data": {
      "text/plain": [
       "array([[  0.00000000e+00,   1.00000000e+01,   1.00000000e+01,\n",
       "          1.00000000e+01,   2.00000000e+00,   2.00000000e+00,\n",
       "          2.00000000e+00,   0.00000000e+00],\n",
       "       [  1.00000000e+00,   1.37350000e+01,   1.37350000e+01,\n",
       "          1.37725000e+01,   1.00000000e+01,   1.00000000e+01,\n",
       "          1.00000000e+01,   1.36200000e+00],\n",
       "       [  2.00000000e+00,   1.68956000e+01,   1.69656000e+01,\n",
       "          1.69992000e+01,   1.00000000e+01,   1.00000000e+01,\n",
       "          1.00000000e+01,   2.38300000e+00],\n",
       "       [  3.00000000e+00,   1.95710000e+01,   1.97591000e+01,\n",
       "          1.97592000e+01,   1.00000000e+01,   1.00000000e+01,\n",
       "          1.00000000e+01,   4.94000000e-01],\n",
       "       [  4.00000000e+00,   2.18087000e+01,   2.14273000e+01,\n",
       "          2.17367000e+01,   9.89209000e+00,   7.06685000e+00,\n",
       "          8.49418000e+00,   3.02000000e-01],\n",
       "       [  5.00000000e+00,   2.15385000e+01,   2.13613000e+01,\n",
       "          2.15164000e+01,   4.51305000e-01,   3.12138000e-01,\n",
       "          7.93334000e-03,   1.54000000e-01],\n",
       "       [  6.00000000e+00,   2.15290000e+01,   2.13229000e+01,\n",
       "          2.14961000e+01,   1.52549000e+00,   4.38907000e-01,\n",
       "          8.46258000e-01,   8.70000000e-02],\n",
       "       [  7.00000000e+00,   2.15275000e+01,   2.13266000e+01,\n",
       "          2.14975000e+01,   1.55960000e+00,   6.13878000e-01,\n",
       "          9.37429000e-01,   5.60000000e-02],\n",
       "       [  8.00000000e+00,   2.15303000e+01,   2.14374000e+01,\n",
       "          2.15166000e+01,   1.57748000e+00,   1.07053000e+00,\n",
       "          1.01374000e+00,   4.00000000e-02],\n",
       "       [  9.00000000e+00,   2.15362000e+01,   2.14286000e+01,\n",
       "          2.15189000e+01,   1.58706000e+00,   5.76427000e-01,\n",
       "          9.41080000e-01,   2.50000000e-02],\n",
       "       [  1.00000000e+01,   2.17500000e+01,   2.17500000e+01,\n",
       "          2.17500000e+01,   1.56375000e+00,   1.02154000e+00,\n",
       "          9.61406000e-01,   1.30000000e-02]])"
      ]
     },
     "execution_count": 38,
     "metadata": {},
     "output_type": "execute_result"
    }
   ],
   "source": [
    "opt=ReadData('HVAC_OPT.txt').as_matrix()\n",
    "opt"
   ]
  },
  {
   "cell_type": "code",
   "execution_count": 41,
   "metadata": {
    "collapsed": false
   },
   "outputs": [
    {
     "data": {
      "image/png": "[encoded data removed]",
      "text/plain": [
       "<matplotlib.figure.Figure at 0x7ff17ee47850>"
      ]
     },
     "metadata": {},
     "output_type": "display_data"
    }
   ],
   "source": [
    "performanceViz(fix[:10],opt[:10,1:7])"
   ]
  },
  {
   "cell_type": "code",
   "execution_count": null,
   "metadata": {
    "collapsed": true
   },
   "outputs": [],
   "source": []
  },
  {
   "cell_type": "code",
   "execution_count": null,
   "metadata": {
    "collapsed": true
   },
   "outputs": [],
   "source": []
  }
 ],
 "metadata": {
  "kernelspec": {
   "display_name": "Python 2",
   "language": "python",
   "name": "python2"
  },
  "language_info": {
   "codemirror_mode": {
    "name": "ipython",
    "version": 2
   },
   "file_extension": ".py",
   "mimetype": "text/x-python",
   "name": "python",
   "nbconvert_exporter": "python",
   "pygments_lexer": "ipython2",
   "version": "2.7.6"
  }
 },
 "nbformat": 4,
 "nbformat_minor": 1
}

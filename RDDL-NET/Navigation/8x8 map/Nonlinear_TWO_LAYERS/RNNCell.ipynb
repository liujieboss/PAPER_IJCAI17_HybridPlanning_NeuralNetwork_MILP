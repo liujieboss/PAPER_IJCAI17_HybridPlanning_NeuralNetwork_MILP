{
 "cells": [
  {
   "cell_type": "code",
   "execution_count": 1,
   "metadata": {},
   "outputs": [
    {
     "name": "stderr",
     "output_type": "stream",
     "text": [
      "/usr/local/lib/python2.7/dist-packages/h5py/__init__.py:36: FutureWarning: Conversion of the second argument of issubdtype from `float` to `np.floating` is deprecated. In future, it will be treated as `np.float64 == np.dtype(float).type`.\n",
      "  from ._conv import register_converters as _register_converters\n",
      "Using TensorFlow backend.\n"
     ]
    }
   ],
   "source": [
    "%matplotlib inline\n",
    "import random\n",
    "import os\n",
    "import json\n",
    "import sys\n",
    "import string\n",
    "import unicodedata\n",
    "from tqdm import tqdm\n",
    "import pandas as pd\n",
    "#Numpy and Scipy\n",
    "import numpy as np\n",
    "from numpy import genfromtxt\n",
    "import matplotlib.pyplot as plt\n",
    "from scipy.spatial import distance\n",
    "#KERAS\n",
    "from keras.layers import Dense, Activation,Dropout\n",
    "from keras.models import Sequential\n",
    "from keras.regularizers import l1,l2\n",
    "from keras.models import load_model\n",
    "import tensorflow as tf\n",
    "import re\n",
    "\n",
    "import tensorflow as tf\n",
    "from keras.layers import Input, Dense,merge\n",
    "from keras.models import Model\n",
    "from keras import backend as K"
   ]
  },
  {
   "cell_type": "code",
   "execution_count": 2,
   "metadata": {},
   "outputs": [],
   "source": [
    "class PretrainedCell(tf.nn.rnn_cell.RNNCell):\n",
    "\n",
    "    def __init__(self, num_state_units, num_reward_units,num_hidden_units, num_hidden_layers, dropout, goal_loc):\n",
    "        self._num_state_units = num_state_units\n",
    "        self._num_reward_units = num_reward_units\n",
    "        self._num_hidden_units = num_hidden_units\n",
    "        self._num_hidden_layers = num_hidden_layers\n",
    "        self._dropout = dropout\n",
    "        self._goal = goal_loc\n",
    "\n",
    "    @property\n",
    "    def state_size(self):\n",
    "        return self._num_state_units\n",
    "\n",
    "    @property\n",
    "    def output_size(self):\n",
    "        return self._num_reward_units\n",
    "\n",
    "    def __call__(self, inputs, state):\n",
    "        print(inputs.get_shape())\n",
    "        with tf.variable_scope(\"cell\"):  # \"GRUCell\"\n",
    "            with tf.variable_scope(\"transition\"):\n",
    "                init = merge([inputs,state], mode='concat')\n",
    "                x = Dense(self._num_hidden_units, activation='relu')(init)\n",
    "                x = Dropout(self._dropout)(x)\n",
    "                interm_inputs = merge([x,init], mode='concat')\n",
    "                if self._num_hidden_layers > 1:\n",
    "                    for i in range(self._num_hidden_layers-1):\n",
    "                        x = Dense(self._num_hidden_units, activation='relu')(interm_inputs)\n",
    "                        x = Dropout(self._dropout)(x)\n",
    "                        interm_inputs=merge([x, interm_inputs], mode='concat')\n",
    "\n",
    "                next_state = Dense(self._num_state_units, activation='linear')(interm_inputs)\n",
    "            with tf.variable_scope(\"Reward\"):\n",
    "                reward = -tf.reduce_sum(state-self._goal, axis=1)\n",
    "        return reward, next_state    "
   ]
  },
  {
   "cell_type": "code",
   "execution_count": 4,
   "metadata": {},
   "outputs": [],
   "source": [
    "cell = PretrainedCell(2, 1, 32, 2, 0.1, np.array([[7,7]]))"
   ]
  },
  {
   "cell_type": "code",
   "execution_count": 5,
   "metadata": {},
   "outputs": [],
   "source": [
    "inputs = tf.Variable(tf.random_normal([10, 2], stddev=0.35))"
   ]
  },
  {
   "cell_type": "code",
   "execution_count": 6,
   "metadata": {},
   "outputs": [],
   "source": [
    "state = tf.Variable(tf.random_normal([10, 2], stddev=0.35))"
   ]
  },
  {
   "cell_type": "code",
   "execution_count": 7,
   "metadata": {},
   "outputs": [
    {
     "name": "stdout",
     "output_type": "stream",
     "text": [
      "(10, 2)\n"
     ]
    },
    {
     "name": "stderr",
     "output_type": "stream",
     "text": [
      "/usr/local/lib/python2.7/dist-packages/ipykernel_launcher.py:23: UserWarning: The `merge` function is deprecated and will be removed after 08/2017. Use instead layers from `keras.layers.merge`, e.g. `add`, `concatenate`, etc.\n",
      "/usr/local/lib/python2.7/dist-packages/keras/legacy/layers.py:467: UserWarning: The `Merge` layer is deprecated and will be removed after 08/2017. Use instead layers from `keras.layers.merge`, e.g. `add`, `concatenate`, etc.\n",
      "  name=name)\n",
      "/usr/local/lib/python2.7/dist-packages/ipykernel_launcher.py:26: UserWarning: The `merge` function is deprecated and will be removed after 08/2017. Use instead layers from `keras.layers.merge`, e.g. `add`, `concatenate`, etc.\n",
      "/usr/local/lib/python2.7/dist-packages/keras/legacy/layers.py:458: UserWarning: The `Merge` layer is deprecated and will be removed after 08/2017. Use instead layers from `keras.layers.merge`, e.g. `add`, `concatenate`, etc.\n",
      "  name=name)\n",
      "/usr/local/lib/python2.7/dist-packages/ipykernel_launcher.py:31: UserWarning: The `merge` function is deprecated and will be removed after 08/2017. Use instead layers from `keras.layers.merge`, e.g. `add`, `concatenate`, etc.\n"
     ]
    }
   ],
   "source": [
    "reward, next_state = cell(inputs, state)"
   ]
  },
  {
   "cell_type": "code",
   "execution_count": 8,
   "metadata": {},
   "outputs": [
    {
     "data": {
      "text/plain": [
       "<tf.Tensor 'cell/transition/dense_3/BiasAdd:0' shape=(10, 2) dtype=float32>"
      ]
     },
     "execution_count": 8,
     "metadata": {},
     "output_type": "execute_result"
    }
   ],
   "source": [
    "next_state"
   ]
  },
  {
   "cell_type": "code",
   "execution_count": 9,
   "metadata": {
    "collapsed": true
   },
   "outputs": [],
   "source": [
    "sess = tf.Session()"
   ]
  },
  {
   "cell_type": "code",
   "execution_count": 10,
   "metadata": {},
   "outputs": [
    {
     "data": {
      "text/plain": [
       "[<tf.Variable 'Variable:0' shape=(10, 2) dtype=float32_ref>,\n",
       " <tf.Variable 'Variable_1:0' shape=(10, 2) dtype=float32_ref>,\n",
       " <tf.Variable 'cell/transition/dense_1/kernel:0' shape=(4, 32) dtype=float32_ref>,\n",
       " <tf.Variable 'cell/transition/dense_1/bias:0' shape=(32,) dtype=float32_ref>,\n",
       " <tf.Variable 'cell/transition/dense_2/kernel:0' shape=(36, 32) dtype=float32_ref>,\n",
       " <tf.Variable 'cell/transition/dense_2/bias:0' shape=(32,) dtype=float32_ref>,\n",
       " <tf.Variable 'cell/transition/dense_3/kernel:0' shape=(68, 2) dtype=float32_ref>,\n",
       " <tf.Variable 'cell/transition/dense_3/bias:0' shape=(2,) dtype=float32_ref>]"
      ]
     },
     "execution_count": 10,
     "metadata": {},
     "output_type": "execute_result"
    }
   ],
   "source": [
    "tf.trainable_variables()"
   ]
  },
  {
   "cell_type": "code",
   "execution_count": 11,
   "metadata": {
    "collapsed": true
   },
   "outputs": [],
   "source": [
    "def load_pretrained(path):\n",
    "    generator_variables = []\n",
    "    for v in tf.trainable_variables():\n",
    "        if \"transition\" in v.name:\n",
    "            generator_variables.append(v)\n",
    "    saver = tf.train.Saver(generator_variables)\n",
    "    saver.restore(sess, path)"
   ]
  },
  {
   "cell_type": "code",
   "execution_count": 12,
   "metadata": {},
   "outputs": [
    {
     "name": "stdout",
     "output_type": "stream",
     "text": [
      "INFO:tensorflow:Restoring parameters from weights/nav\n"
     ]
    }
   ],
   "source": [
    "load_pretrained('weights/nav')"
   ]
  },
  {
   "cell_type": "code",
   "execution_count": 13,
   "metadata": {},
   "outputs": [
    {
     "data": {
      "text/plain": [
       "<tf.Tensor 'cell/Reward/Neg:0' shape=(10,) dtype=float32>"
      ]
     },
     "execution_count": 13,
     "metadata": {},
     "output_type": "execute_result"
    }
   ],
   "source": [
    "reward"
   ]
  },
  {
   "cell_type": "code",
   "execution_count": null,
   "metadata": {
    "collapsed": true
   },
   "outputs": [],
   "source": []
  }
 ],
 "metadata": {
  "kernelspec": {
   "display_name": "Python 2",
   "language": "python",
   "name": "python2"
  },
  "language_info": {
   "codemirror_mode": {
    "name": "ipython",
    "version": 2
   },
   "file_extension": ".py",
   "mimetype": "text/x-python",
   "name": "python",
   "nbconvert_exporter": "python",
   "pygments_lexer": "ipython2",
   "version": "2.7.12"
  }
 },
 "nbformat": 4,
 "nbformat_minor": 1
}

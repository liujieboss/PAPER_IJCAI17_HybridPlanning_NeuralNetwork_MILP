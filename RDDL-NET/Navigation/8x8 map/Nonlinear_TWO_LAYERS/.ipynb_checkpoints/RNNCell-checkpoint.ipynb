{
 "cells": [
  {
   "cell_type": "code",
   "execution_count": 14,
   "metadata": {
    "collapsed": false
   },
   "outputs": [],
   "source": [
    "%matplotlib inline\n",
    "import random\n",
    "import os\n",
    "import json\n",
    "import sys\n",
    "import string\n",
    "import unicodedata\n",
    "from tqdm import tqdm\n",
    "import pandas as pd\n",
    "#Numpy and Scipy\n",
    "import numpy as np\n",
    "from numpy import genfromtxt\n",
    "import matplotlib.pyplot as plt\n",
    "from scipy.spatial import distance\n",
    "#KERAS\n",
    "from keras.layers import Dense, Activation,Dropout\n",
    "from keras.models import Sequential\n",
    "from keras.regularizers import l1,l2\n",
    "from keras.models import load_model\n",
    "import tensorflow as tf\n",
    "import re\n",
    "\n",
    "import tensorflow as tf\n",
    "from keras.layers import Input, Dense,merge\n",
    "from keras.models import Model\n",
    "from keras import backend as K"
   ]
  },
  {
   "cell_type": "code",
   "execution_count": 40,
   "metadata": {
    "collapsed": false
   },
   "outputs": [],
   "source": [
    "class PretrainedCell(tf.nn.rnn_cell.RNNCell):\n",
    "\n",
    "    def __init__(self, num_state_units, num_reward_units,num_hidden_units, num_hidden_layers, dropout):\n",
    "        self._num_state_units = num_state_units\n",
    "        self._num_reward_units = num_reward_units\n",
    "        self._num_hidden_units = num_hidden_units\n",
    "        self._num_hidden_layers = num_hidden_layers\n",
    "        self._dropout = dropout\n",
    "\n",
    "    @property\n",
    "    def state_size(self):\n",
    "        return self._num_state_units\n",
    "\n",
    "    @property\n",
    "    def output_size(self):\n",
    "        return self._num_reward_units\n",
    "\n",
    "    def __call__(self, inputs, state):\n",
    "        print(inputs.get_shape())\n",
    "        with tf.variable_scope(\"cell\"):  # \"GRUCell\"\n",
    "            with tf.variable_scope(\"Transition\"):\n",
    "                init = merge([inputs,state], mode='concat')\n",
    "                x = Dense(self._num_hidden_units, activation='relu')(init)\n",
    "                x = Dropout(self._dropout)(x)\n",
    "                interm_inputs = merge([x,inputs], mode='concat')\n",
    "                if self._num_hidden_layers > 1:\n",
    "                    for i in range(self._num_hidden_layers-1):\n",
    "                        x = Dense(self._num_hidden_units, activation='relu')(interm_inputs)\n",
    "                        x = Dropout(self._dropout)(x)\n",
    "                        interm_inputs=merge([x, interm_inputs], mode='concat')\n",
    "\n",
    "                next_state = Dense(self._num_state_units, activation='linear')(interm_inputs)\n",
    "            with tf.variable_scope(\"Reward\"):\n",
    "                reward = 0\n",
    "        return reward, next_state    "
   ]
  },
  {
   "cell_type": "code",
   "execution_count": 41,
   "metadata": {
    "collapsed": true
   },
   "outputs": [],
   "source": [
    "cell = PretrainedCell(2, 1, 32, 2, 0.1)"
   ]
  },
  {
   "cell_type": "code",
   "execution_count": 42,
   "metadata": {
    "collapsed": false
   },
   "outputs": [],
   "source": [
    "inputs = tf.Variable(tf.random_normal([10, 2], stddev=0.35))"
   ]
  },
  {
   "cell_type": "code",
   "execution_count": 43,
   "metadata": {
    "collapsed": false
   },
   "outputs": [],
   "source": [
    "state = tf.Variable(tf.random_normal([10, 2], stddev=0.35))"
   ]
  },
  {
   "cell_type": "code",
   "execution_count": 44,
   "metadata": {
    "collapsed": false
   },
   "outputs": [
    {
     "name": "stdout",
     "output_type": "stream",
     "text": [
      "(10, 2)\n"
     ]
    },
    {
     "name": "stderr",
     "output_type": "stream",
     "text": [
      "/usr/local/lib/python2.7/dist-packages/ipykernel/__main__.py:22: UserWarning: The `merge` function is deprecated and will be removed after 08/2017. Use instead layers from `keras.layers.merge`, e.g. `add`, `concatenate`, etc.\n",
      "/usr/local/lib/python2.7/dist-packages/ipykernel/__main__.py:25: UserWarning: The `merge` function is deprecated and will be removed after 08/2017. Use instead layers from `keras.layers.merge`, e.g. `add`, `concatenate`, etc.\n",
      "/usr/local/lib/python2.7/dist-packages/ipykernel/__main__.py:30: UserWarning: The `merge` function is deprecated and will be removed after 08/2017. Use instead layers from `keras.layers.merge`, e.g. `add`, `concatenate`, etc.\n"
     ]
    }
   ],
   "source": [
    "reward, next_state = cell(inputs, state)"
   ]
  },
  {
   "cell_type": "code",
   "execution_count": 47,
   "metadata": {
    "collapsed": false
   },
   "outputs": [
    {
     "data": {
      "text/plain": [
       "<tf.Tensor 'cell_6/Transition/dense_8/BiasAdd:0' shape=(10, 2) dtype=float32>"
      ]
     },
     "execution_count": 47,
     "metadata": {},
     "output_type": "execute_result"
    }
   ],
   "source": [
    "next_state"
   ]
  },
  {
   "cell_type": "code",
   "execution_count": null,
   "metadata": {
    "collapsed": true
   },
   "outputs": [],
   "source": []
  }
 ],
 "metadata": {
  "kernelspec": {
   "display_name": "Python 2",
   "language": "python",
   "name": "python2"
  },
  "language_info": {
   "codemirror_mode": {
    "name": "ipython",
    "version": 2
   },
   "file_extension": ".py",
   "mimetype": "text/x-python",
   "name": "python",
   "nbconvert_exporter": "python",
   "pygments_lexer": "ipython2",
   "version": "2.7.6"
  }
 },
 "nbformat": 4,
 "nbformat_minor": 1
}

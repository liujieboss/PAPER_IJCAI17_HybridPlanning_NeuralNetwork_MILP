{
 "cells": [
  {
   "cell_type": "code",
   "execution_count": 25,
   "metadata": {
    "collapsed": true
   },
   "outputs": [],
   "source": [
    "%matplotlib inline\n",
    "import random\n",
    "import os\n",
    "import json\n",
    "import sys\n",
    "import string\n",
    "import unicodedata\n",
    "from tqdm import tqdm\n",
    "import pandas as pd\n",
    "import numpy as np\n",
    "import matplotlib.pyplot as plt\n",
    "import matplotlib.patches as patches\n",
    "import matplotlib as mpl"
   ]
  },
  {
   "cell_type": "code",
   "execution_count": 26,
   "metadata": {
    "collapsed": true
   },
   "outputs": [],
   "source": [
    "#Given local path, find full path\n",
    "def PathFinder(path):\n",
    "    script_dir = os.path.dirname('__file__')\n",
    "    fullpath = os.path.join(script_dir,path)\n",
    "    return fullpath\n",
    "\n",
    "#Read Data for Deep Learning\n",
    "def ReadData(path):\n",
    "    fullpath=PathFinder(path)\n",
    "    return pd.read_csv(fullpath, sep=',', header=0)"
   ]
  },
  {
   "cell_type": "code",
   "execution_count": 45,
   "metadata": {
    "collapsed": false
   },
   "outputs": [],
   "source": [
    "from matplotlib.ticker import ScalarFormatter\n",
    "def performanceViz(FIX,OPT):\n",
    "    horizon,dim=FIX.shape\n",
    "    fig, axes = plt.subplots(nrows=dim, ncols=1, figsize=(4, 4))\n",
    "    y_formatter = ScalarFormatter(useOffset=False)\n",
    "    for i in range(dim):\n",
    "        for j in range(horizon-1):\n",
    "            axes[i].plot([j,j+1],[FIX[j,i],FIX[j+1,i]],'r-',lw=1.5)\n",
    "            axes[i].plot([j,j+1],[OPT[j,i],OPT[j+1,i]],'b-.',lw=1.5)\n",
    "            axes[i].yaxis.set_major_formatter(y_formatter)\n",
    "            axes[i].locator_params(axis='y',nbins=5)\n",
    "            axes[i].yaxis.tick_right()\n",
    "            if(i!=4-1):\n",
    "                axes[i].tick_params(axis='x', which='both',bottom='off',top='off',labelbottom='off',length=0)\n",
    "    plt.xlabel('Time Step')\n",
    "    axes[0].set_ylabel('Water\\nLevel1')\n",
    "    axes[1].set_ylabel('Water\\nLevel2')\n",
    "    axes[2].set_ylabel('Water\\nLevel3')\n",
    "    axes[3].set_ylabel('Water\\nLevel4')\n",
    "    axes[0].set_ylim(0, 100)\n",
    "    axes[1].set_ylim(0, 200)\n",
    "    axes[2].set_ylim(0, 400)\n",
    "    axes[3].set_ylim(0, 500)\n",
    "    fig.subplots_adjust(hspace=0.4)\n",
    "    plt.savefig('Comparison.eps',format='eps')"
   ]
  },
  {
   "cell_type": "code",
   "execution_count": 46,
   "metadata": {
    "collapsed": false
   },
   "outputs": [
    {
     "data": {
      "text/plain": [
       "array([[  75.        ,   50.        ,   50.        ,   50.        ],\n",
       "       [  52.57089865,   83.36975809,   67.4132703 ,   79.32864987],\n",
       "       [  54.46024115,   91.62796844,   84.9648319 ,  104.99174027],\n",
       "       [  53.55809177,  101.70721326,  100.84662205,  129.73614585],\n",
       "       [  54.42397287,  108.6265444 ,  116.38818888,  151.34400042],\n",
       "       [  54.76022938,  113.6923929 ,  131.85973938,  168.28348856],\n",
       "       [  55.15639104,  109.94612214,  153.59386558,  182.74123806],\n",
       "       [  53.92600226,  113.61973654,  165.69990053,  197.28611224],\n",
       "       [  55.03372721,  109.67556912,  180.93885301,  208.98905506],\n",
       "       [  52.49799134,  114.28573425,  188.6720948 ,  218.70562671],\n",
       "       [  53.52770498,  111.53486743,  199.80628283,  224.01449699]])"
      ]
     },
     "execution_count": 46,
     "metadata": {},
     "output_type": "execute_result"
    }
   ],
   "source": [
    "fix=ReadData('Reservoir_FIX.txt').as_matrix()\n",
    "fix"
   ]
  },
  {
   "cell_type": "code",
   "execution_count": 47,
   "metadata": {
    "collapsed": false
   },
   "outputs": [
    {
     "data": {
      "text/plain": [
       "array([[  0.00000000e+00,   7.50000000e+01,   5.00000000e+01,\n",
       "          5.00000000e+01,   5.00000000e+01,   0.00000000e+00],\n",
       "       [  1.00000000e+00,   3.44356000e+01,   1.01505000e+02,\n",
       "          6.87505000e+01,   7.87505000e+01,   5.87400000e+00],\n",
       "       [  2.00000000e+00,   3.88428000e+01,   1.04398000e+02,\n",
       "          8.83537000e+01,   1.05653000e+02,   4.51800000e+00],\n",
       "       [  3.00000000e+00,   4.30887000e+01,   1.04358000e+02,\n",
       "          1.09055000e+02,   1.30082000e+02,   3.66800000e+00],\n",
       "       [  4.00000000e+00,   4.71606000e+01,   1.04452000e+02,\n",
       "          1.27592000e+02,   1.51645000e+02,   1.66100000e+00],\n",
       "       [  5.00000000e+00,   5.03532000e+01,   1.04529000e+02,\n",
       "          1.44647000e+02,   1.70191000e+02,   7.41000000e-01],\n",
       "       [  6.00000000e+00,   5.03615000e+01,   1.04596000e+02,\n",
       "          1.62427000e+02,   1.85778000e+02,   6.86000000e-01],\n",
       "       [  7.00000000e+00,   5.03720000e+01,   1.04663000e+02,\n",
       "          1.77488000e+02,   1.98621000e+02,   3.51000000e-01],\n",
       "       [  8.00000000e+00,   5.03808000e+01,   1.04718000e+02,\n",
       "          1.90020000e+02,   2.09025000e+02,   3.29000000e-01],\n",
       "       [  9.00000000e+00,   5.03881000e+01,   1.04765000e+02,\n",
       "          2.00280000e+02,   2.17338000e+02,   1.21000000e-01],\n",
       "       [  1.00000000e+01,   2.00000000e+01,   9.23514000e+01,\n",
       "          2.10000000e+02,   2.70000000e+02,   2.20000000e-02]])"
      ]
     },
     "execution_count": 47,
     "metadata": {},
     "output_type": "execute_result"
    }
   ],
   "source": [
    "opt=ReadData('Reservoir_OPT.txt').as_matrix()\n",
    "opt"
   ]
  },
  {
   "cell_type": "code",
   "execution_count": 48,
   "metadata": {
    "collapsed": false
   },
   "outputs": [
    {
     "data": {
      "image/png": "[encoded data removed]",
      "text/plain": [
       "<matplotlib.figure.Figure at 0x7f34b701b290>"
      ]
     },
     "metadata": {},
     "output_type": "display_data"
    }
   ],
   "source": [
    "performanceViz(fix[:10],opt[:10,1:5])"
   ]
  },
  {
   "cell_type": "code",
   "execution_count": null,
   "metadata": {
    "collapsed": true
   },
   "outputs": [],
   "source": []
  },
  {
   "cell_type": "code",
   "execution_count": null,
   "metadata": {
    "collapsed": true
   },
   "outputs": [],
   "source": []
  }
 ],
 "metadata": {
  "kernelspec": {
   "display_name": "Python 2",
   "language": "python",
   "name": "python2"
  },
  "language_info": {
   "codemirror_mode": {
    "name": "ipython",
    "version": 2
   },
   "file_extension": ".py",
   "mimetype": "text/x-python",
   "name": "python",
   "nbconvert_exporter": "python",
   "pygments_lexer": "ipython2",
   "version": "2.7.6"
  }
 },
 "nbformat": 4,
 "nbformat_minor": 1
}

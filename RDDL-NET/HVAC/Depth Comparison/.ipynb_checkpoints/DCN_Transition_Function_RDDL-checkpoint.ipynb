{
 "cells": [
  {
   "cell_type": "code",
   "execution_count": 1,
   "metadata": {
    "collapsed": true
   },
   "outputs": [],
   "source": [
    "!pip --quiet install keras\n",
    "!pip --quiet install h5py\n",
    "!pip --quiet install shapely\n",
    "!pip --quiet install descartes\n",
    "!pip --quiet install tqdm\n",
    "!pip --quiet install tensorflow"
   ]
  },
  {
   "cell_type": "code",
   "execution_count": 1,
   "metadata": {
    "collapsed": false
   },
   "outputs": [
    {
     "name": "stderr",
     "output_type": "stream",
     "text": [
      "Using TensorFlow backend.\n"
     ]
    }
   ],
   "source": [
    "%matplotlib inline\n",
    "import random\n",
    "import os\n",
    "import json\n",
    "import sys\n",
    "import string\n",
    "import unicodedata\n",
    "from tqdm import tqdm\n",
    "import pandas as pd\n",
    "#Numpy and Scipy\n",
    "import numpy as np\n",
    "from numpy import genfromtxt\n",
    "import matplotlib.pyplot as plt\n",
    "from scipy.spatial import distance\n",
    "#KERAS\n",
    "from keras.layers import Dense, Activation,Dropout\n",
    "from keras.models import Sequential\n",
    "from keras.regularizers import l1,l2\n",
    "from keras.models import load_model"
   ]
  },
  {
   "cell_type": "code",
   "execution_count": 2,
   "metadata": {
    "collapsed": true
   },
   "outputs": [],
   "source": [
    "#Given local path, find full path\n",
    "def PathFinder(path):\n",
    "    script_dir = os.path.dirname('__file__')\n",
    "    fullpath = os.path.join(script_dir,path)\n",
    "    return fullpath\n",
    "\n",
    "#Read Data for Deep Learning\n",
    "def ReadData(path):\n",
    "    fullpath=PathFinder(path)\n",
    "    return pd.read_csv(fullpath, sep=',', header=0)\n",
    "\n",
    "#Input Normalization\n",
    "def Normalize(features, mean = [], std = []):\n",
    "    if mean == []:\n",
    "        mean = np.mean(features, axis = 0)\n",
    "        std = np.std(features, axis = 0)\n",
    "#     print std\n",
    "#     print std[:,None]\n",
    "    new_feature = (features.T - mean[:,None]).T\n",
    "    new_feature = (new_feature.T / std[:,None]).T\n",
    "    new_feature[np.isnan(new_feature)]=0\n",
    "#     print new_feature\n",
    "    return new_feature, mean, std"
   ]
  },
  {
   "cell_type": "code",
   "execution_count": 3,
   "metadata": {
    "collapsed": true
   },
   "outputs": [],
   "source": [
    "import tensorflow as tf\n",
    "tf.python.control_flow_ops = tf\n",
    "from keras.layers import Input, Dense,merge\n",
    "from keras.models import Model\n",
    "from keras import backend as K\n",
    "class DenselyConnectedNetwork(object):\n",
    "    '''\n",
    "\n",
    "    '''\n",
    "    def __init__(self,observ,hidden,output,num_layers,drop_out,boost):\n",
    "        self.drop_out=drop_out\n",
    "        self.boost = boost\n",
    "\n",
    "        inputs = Input(shape=(observ,))\n",
    "        if num_layers == 0:\n",
    "            interm_inputs=inputs;\n",
    "        \n",
    "        if num_layers >= 1:\n",
    "            x = Dense(hidden, activation='relu')(inputs)\n",
    "            x = Dropout(drop_out)(x)\n",
    "            interm_inputs = merge([x,inputs], mode='concat')\n",
    "            if num_layers > 1:\n",
    "                for i in range(num_layers-1):\n",
    "                    x = Dense(hidden, activation='relu')(interm_inputs)\n",
    "                    x = Dropout(drop_out)(x)\n",
    "                    interm_inputs=merge([x, interm_inputs], mode='concat')\n",
    "#         predictions = Dense(output, activation='linear')(interm_inputs)\n",
    "#        if num_layers > 1:\n",
    "#            for i in range(num_layers-1):\n",
    "#                x = Dense(hidden, activation='relu')(x)\n",
    "#                x = Dropout(drop_out)(x)\n",
    "#        interm_inputs=merge([x,inputs], mode='concat')\n",
    "        predictions = Dense(output, activation='linear')(interm_inputs)\n",
    "        self.DeepNet=Model(input=inputs, output=predictions)\n",
    "        self.DeepNet.compile(optimizer='rmsprop', loss=self.boosted_mean_squared_error)\n",
    "        \n",
    "    def boosted_mean_squared_error(self,y_true, y_pred):\n",
    "        return K.mean(K.square(y_pred - y_true)*self.boost, axis=-1)\n",
    "    \n",
    "    def Train(self,data,label,epoch, normalize=False):\n",
    "        mean=[]\n",
    "        std=[]\n",
    "        if normalize:\n",
    "            normalized_data,mean,std=Normalize(data)\n",
    "        else:\n",
    "            normalized_data=data\n",
    "        self.history=self.DeepNet.fit(normalized_data, label,validation_split=0.1,batch_size=128, nb_epoch=epoch)\n",
    "        return mean,std\n",
    "\n",
    "    def Test(self,datapoint,normalize=False,mean=[],std=[]):\n",
    "        if normalize:\n",
    "            normalized_datapoint,_,_=Normalize(datapoint,mean,std)\n",
    "        else:\n",
    "            normalized_datapoint=datapoint\n",
    "        return self.DeepNet.predict(normalized_datapoint, batch_size=128, verbose=0)\n",
    "    \n",
    "    def LoadModel(self,modelpath):\n",
    "        self.DeepNet=load_model(modelpath)\n",
    "    \n",
    "    def Save(self,modelpath):\n",
    "        self.DeepNet.save(modelpath)\n",
    "        \n",
    "    def GetModel(self):\n",
    "        return self.DeepNet\n",
    "    \n",
    "    def ShowHistory(self):\n",
    "        # summarize history for loss\n",
    "        plt.plot(self.history.history['loss'])\n",
    "        plt.plot(self.history.history['val_loss'])\n",
    "        plt.title('model loss')\n",
    "        plt.ylabel('loss')\n",
    "        plt.xlabel('epoch')\n",
    "        #plt.legend(['train', 'test'], loc='upper left')\n",
    "        plt.savefig('train_curve.png')"
   ]
  },
  {
   "cell_type": "code",
   "execution_count": 48,
   "metadata": {
    "collapsed": false
   },
   "outputs": [],
   "source": [
    "from matplotlib.ticker import ScalarFormatter\n",
    "def performanceViz(Data,True_Label,Pred_Label1,Pred_Label2,Pred_Label3,horizon):\n",
    "    _,dim=Data.shape\n",
    "    fig, axes = plt.subplots(nrows=dim, ncols=1, figsize=(4, 4))\n",
    "    y_formatter = ScalarFormatter(useOffset=False)\n",
    "    for i in range(dim):\n",
    "        for j in range(horizon):\n",
    "            axes[i].plot([j,j+1],[Data[j,i],True_Label[j,i]],'r-',lw=1.5)\n",
    "            axes[i].plot([j,j+1],[Data[j,i],Pred_Label1[j,i]],'b-.',lw=1.5)\n",
    "            axes[i].plot([j,j+1],[Data[j,i],Pred_Label2[j,i]],'m-.',lw=1.5)\n",
    "            axes[i].plot([j,j+1],[Data[j,i],Pred_Label3[j,i]],'k-.',lw=1.5)\n",
    "            axes[i].locator_params(axis='y',nbins=2)\n",
    "            axes[i].yaxis.tick_right()\n",
    "            if(i!=dim-1):\n",
    "                axes[i].tick_params(axis='x', which='both',bottom='off',top='off',labelbottom='off',length=0)\n",
    "        axes[0].set_ylabel('Temp1')\n",
    "        axes[1].set_ylabel('Temp2')\n",
    "        axes[2].set_ylabel('Temp3')\n",
    "        axes[3].set_ylabel('Air1')\n",
    "        axes[4].set_ylabel('Air2')\n",
    "        axes[5].set_ylabel('Air3')\n",
    "        plt.xlabel('Time Step')\n",
    "    fig.subplots_adjust(hspace=0.4)\n",
    "    plt.savefig('Comparison.eps',format='eps')\n"
   ]
  },
  {
   "cell_type": "code",
   "execution_count": 12,
   "metadata": {
    "collapsed": false
   },
   "outputs": [],
   "source": [
    "def performanceCheck(DNN1,DNN2,DNN3,Test_Data,Test_Label,mean_DNN,std_DNN):\n",
    "    Pred_Label1 = DNN1.Test(Test_Data,True,mean_DNN,std_DNN)\n",
    "    Pred_Label2 = DNN2.Test(Test_Data,True,mean_DNN,std_DNN)\n",
    "    Pred_Label3 = DNN3.Test(Test_Data,True,mean_DNN,std_DNN)\n",
    "    print \"Complete testing\"\n",
    "    Feed_Data=Test_Data[:,3:]\n",
    "    performanceViz(Feed_Data,Test_Label,Pred_Label1,Pred_Label2,Pred_Label3,10)"
   ]
  },
  {
   "cell_type": "code",
   "execution_count": 15,
   "metadata": {
    "collapsed": false,
    "scrolled": true
   },
   "outputs": [
    {
     "name": "stdout",
     "output_type": "stream",
     "text": [
      "Train on 64800 samples, validate on 7200 samples\n",
      "Epoch 1/100\n",
      "64800/64800 [==============================] - 0s - loss: 4.4486 - val_loss: 4.1575\n",
      "Epoch 2/100\n",
      "64800/64800 [==============================] - 0s - loss: 3.9860 - val_loss: 3.8311\n",
      "Epoch 3/100\n",
      "64800/64800 [==============================] - 0s - loss: 3.6942 - val_loss: 3.5649\n",
      "Epoch 4/100\n",
      "64800/64800 [==============================] - 0s - loss: 3.4488 - val_loss: 3.3381\n",
      "Epoch 5/100\n",
      "64800/64800 [==============================] - 0s - loss: 3.2390 - val_loss: 3.1438\n",
      "Epoch 6/100\n",
      "64800/64800 [==============================] - 0s - loss: 3.0561 - val_loss: 2.9717\n",
      "Epoch 7/100\n",
      "64800/64800 [==============================] - 0s - loss: 2.8931 - val_loss: 2.8159\n",
      "Epoch 8/100\n",
      "64800/64800 [==============================] - 0s - loss: 2.7423 - val_loss: 2.6693\n",
      "Epoch 9/100\n",
      "64800/64800 [==============================] - 0s - loss: 2.5995 - val_loss: 2.5296\n",
      "Epoch 10/100\n",
      "64800/64800 [==============================] - 0s - loss: 2.4618 - val_loss: 2.3941\n",
      "Epoch 11/100\n",
      "64800/64800 [==============================] - 0s - loss: 2.3282 - val_loss: 2.2625\n",
      "Epoch 12/100\n",
      "64800/64800 [==============================] - 0s - loss: 2.1983 - val_loss: 2.1344\n",
      "Epoch 13/100\n",
      "64800/64800 [==============================] - 0s - loss: 2.0723 - val_loss: 2.0102\n",
      "Epoch 14/100\n",
      "64800/64800 [==============================] - 0s - loss: 1.9500 - val_loss: 1.8899\n",
      "Epoch 15/100\n",
      "64800/64800 [==============================] - 0s - loss: 1.8314 - val_loss: 1.7731\n",
      "Epoch 16/100\n",
      "64800/64800 [==============================] - 0s - loss: 1.7166 - val_loss: 1.6604\n",
      "Epoch 17/100\n",
      "64800/64800 [==============================] - 0s - loss: 1.6055 - val_loss: 1.5509\n",
      "Epoch 18/100\n",
      "12288/64800 [====>.........................] - ETA: 0s - loss: 1.5410"
     ]
    },
    {
     "ename": "KeyboardInterrupt",
     "evalue": "",
     "output_type": "error",
     "traceback": [
      "\u001b[0;31m---------------------------------------------------------------------------\u001b[0m",
      "\u001b[0;31mKeyboardInterrupt\u001b[0m                         Traceback (most recent call last)",
      "\u001b[0;32m<ipython-input-15-a3a50521e94c>\u001b[0m in \u001b[0;36m<module>\u001b[0;34m()\u001b[0m\n\u001b[1;32m     32\u001b[0m \u001b[0mDatapath\u001b[0m\u001b[0;34m=\u001b[0m\u001b[0;34m\"HVAC_VAV_Data.txt\"\u001b[0m\u001b[0;34m\u001b[0m\u001b[0m\n\u001b[1;32m     33\u001b[0m \u001b[0mLabelpath\u001b[0m\u001b[0;34m=\u001b[0m\u001b[0;34m\"HVAC_VAV_Label.txt\"\u001b[0m\u001b[0;34m\u001b[0m\u001b[0m\n\u001b[0;32m---> 34\u001b[0;31m \u001b[0mDNN1\u001b[0m\u001b[0;34m,\u001b[0m\u001b[0mDNN2\u001b[0m\u001b[0;34m,\u001b[0m\u001b[0mDNN3\u001b[0m\u001b[0;34m,\u001b[0m\u001b[0mTest_Data\u001b[0m\u001b[0;34m,\u001b[0m\u001b[0mTest_Label\u001b[0m\u001b[0;34m,\u001b[0m\u001b[0mmean_DNN\u001b[0m\u001b[0;34m,\u001b[0m\u001b[0mstd_DNN\u001b[0m\u001b[0;34m=\u001b[0m\u001b[0mtrainNetForData\u001b[0m\u001b[0;34m(\u001b[0m\u001b[0mDatapath\u001b[0m\u001b[0;34m,\u001b[0m\u001b[0mLabelpath\u001b[0m\u001b[0;34m,\u001b[0m\u001b[0;36m32\u001b[0m\u001b[0;34m,\u001b[0m\u001b[0;36m100\u001b[0m\u001b[0;34m)\u001b[0m\u001b[0;34m\u001b[0m\u001b[0m\n\u001b[0m\u001b[1;32m     35\u001b[0m \u001b[0mperformanceCheck\u001b[0m\u001b[0;34m(\u001b[0m\u001b[0mDNN1\u001b[0m\u001b[0;34m,\u001b[0m\u001b[0mDNN2\u001b[0m\u001b[0;34m,\u001b[0m\u001b[0mDNN3\u001b[0m\u001b[0;34m,\u001b[0m\u001b[0mTest_Data\u001b[0m\u001b[0;34m,\u001b[0m\u001b[0mTest_Label\u001b[0m\u001b[0;34m,\u001b[0m\u001b[0mmean_DNN\u001b[0m\u001b[0;34m,\u001b[0m\u001b[0mstd_DNN\u001b[0m\u001b[0;34m)\u001b[0m\u001b[0;34m\u001b[0m\u001b[0m\n",
      "\u001b[0;32m<ipython-input-15-a3a50521e94c>\u001b[0m in \u001b[0;36mtrainNetForData\u001b[0;34m(Datapath, Labelpath, node_size, epoches)\u001b[0m\n\u001b[1;32m     16\u001b[0m     \u001b[0;31m#LINEAR\u001b[0m\u001b[0;34m\u001b[0m\u001b[0;34m\u001b[0m\u001b[0m\n\u001b[1;32m     17\u001b[0m     \u001b[0mDNN1\u001b[0m\u001b[0;34m=\u001b[0m\u001b[0mDenselyConnectedNetwork\u001b[0m\u001b[0;34m(\u001b[0m\u001b[0mn_data\u001b[0m\u001b[0;34m,\u001b[0m\u001b[0mnode_size\u001b[0m\u001b[0;34m,\u001b[0m\u001b[0mn_label\u001b[0m\u001b[0;34m,\u001b[0m\u001b[0;36m0\u001b[0m\u001b[0;34m,\u001b[0m\u001b[0;36m0.1\u001b[0m\u001b[0;34m,\u001b[0m\u001b[0mLabel_Weights\u001b[0m\u001b[0;34m)\u001b[0m\u001b[0;34m\u001b[0m\u001b[0m\n\u001b[0;32m---> 18\u001b[0;31m     \u001b[0mmean_DNN\u001b[0m\u001b[0;34m,\u001b[0m\u001b[0mstd_DNN\u001b[0m\u001b[0;34m=\u001b[0m\u001b[0mDNN1\u001b[0m\u001b[0;34m.\u001b[0m\u001b[0mTrain\u001b[0m\u001b[0;34m(\u001b[0m\u001b[0mTrain_Data\u001b[0m\u001b[0;34m,\u001b[0m \u001b[0mTrain_Label\u001b[0m\u001b[0;34m,\u001b[0m\u001b[0mepoches\u001b[0m\u001b[0;34m,\u001b[0m\u001b[0mTrue\u001b[0m\u001b[0;34m)\u001b[0m\u001b[0;34m\u001b[0m\u001b[0m\n\u001b[0m\u001b[1;32m     19\u001b[0m     \u001b[0mDNN1\u001b[0m\u001b[0;34m.\u001b[0m\u001b[0mShowHistory\u001b[0m\u001b[0;34m(\u001b[0m\u001b[0;34m)\u001b[0m\u001b[0;34m\u001b[0m\u001b[0m\n\u001b[1;32m     20\u001b[0m     \u001b[0;31m#SINGLE\u001b[0m\u001b[0;34m\u001b[0m\u001b[0;34m\u001b[0m\u001b[0m\n",
      "\u001b[0;32m<ipython-input-3-58e0b2f7ad76>\u001b[0m in \u001b[0;36mTrain\u001b[0;34m(self, data, label, epoch, normalize)\u001b[0m\n\u001b[1;32m     45\u001b[0m         \u001b[0;32melse\u001b[0m\u001b[0;34m:\u001b[0m\u001b[0;34m\u001b[0m\u001b[0m\n\u001b[1;32m     46\u001b[0m             \u001b[0mnormalized_data\u001b[0m\u001b[0;34m=\u001b[0m\u001b[0mdata\u001b[0m\u001b[0;34m\u001b[0m\u001b[0m\n\u001b[0;32m---> 47\u001b[0;31m         \u001b[0mself\u001b[0m\u001b[0;34m.\u001b[0m\u001b[0mhistory\u001b[0m\u001b[0;34m=\u001b[0m\u001b[0mself\u001b[0m\u001b[0;34m.\u001b[0m\u001b[0mDeepNet\u001b[0m\u001b[0;34m.\u001b[0m\u001b[0mfit\u001b[0m\u001b[0;34m(\u001b[0m\u001b[0mnormalized_data\u001b[0m\u001b[0;34m,\u001b[0m \u001b[0mlabel\u001b[0m\u001b[0;34m,\u001b[0m\u001b[0mvalidation_split\u001b[0m\u001b[0;34m=\u001b[0m\u001b[0;36m0.1\u001b[0m\u001b[0;34m,\u001b[0m\u001b[0mbatch_size\u001b[0m\u001b[0;34m=\u001b[0m\u001b[0;36m128\u001b[0m\u001b[0;34m,\u001b[0m \u001b[0mnb_epoch\u001b[0m\u001b[0;34m=\u001b[0m\u001b[0mepoch\u001b[0m\u001b[0;34m)\u001b[0m\u001b[0;34m\u001b[0m\u001b[0m\n\u001b[0m\u001b[1;32m     48\u001b[0m         \u001b[0;32mreturn\u001b[0m \u001b[0mmean\u001b[0m\u001b[0;34m,\u001b[0m\u001b[0mstd\u001b[0m\u001b[0;34m\u001b[0m\u001b[0m\n\u001b[1;32m     49\u001b[0m \u001b[0;34m\u001b[0m\u001b[0m\n",
      "\u001b[0;32m/usr/local/lib/python2.7/dist-packages/keras/engine/training.pyc\u001b[0m in \u001b[0;36mfit\u001b[0;34m(self, x, y, batch_size, nb_epoch, verbose, callbacks, validation_split, validation_data, shuffle, class_weight, sample_weight)\u001b[0m\n\u001b[1;32m   1122\u001b[0m                               \u001b[0mverbose\u001b[0m\u001b[0;34m=\u001b[0m\u001b[0mverbose\u001b[0m\u001b[0;34m,\u001b[0m \u001b[0mcallbacks\u001b[0m\u001b[0;34m=\u001b[0m\u001b[0mcallbacks\u001b[0m\u001b[0;34m,\u001b[0m\u001b[0;34m\u001b[0m\u001b[0m\n\u001b[1;32m   1123\u001b[0m                               \u001b[0mval_f\u001b[0m\u001b[0;34m=\u001b[0m\u001b[0mval_f\u001b[0m\u001b[0;34m,\u001b[0m \u001b[0mval_ins\u001b[0m\u001b[0;34m=\u001b[0m\u001b[0mval_ins\u001b[0m\u001b[0;34m,\u001b[0m \u001b[0mshuffle\u001b[0m\u001b[0;34m=\u001b[0m\u001b[0mshuffle\u001b[0m\u001b[0;34m,\u001b[0m\u001b[0;34m\u001b[0m\u001b[0m\n\u001b[0;32m-> 1124\u001b[0;31m                               callback_metrics=callback_metrics)\n\u001b[0m\u001b[1;32m   1125\u001b[0m \u001b[0;34m\u001b[0m\u001b[0m\n\u001b[1;32m   1126\u001b[0m     \u001b[0;32mdef\u001b[0m \u001b[0mevaluate\u001b[0m\u001b[0;34m(\u001b[0m\u001b[0mself\u001b[0m\u001b[0;34m,\u001b[0m \u001b[0mx\u001b[0m\u001b[0;34m,\u001b[0m \u001b[0my\u001b[0m\u001b[0;34m,\u001b[0m \u001b[0mbatch_size\u001b[0m\u001b[0;34m=\u001b[0m\u001b[0;36m32\u001b[0m\u001b[0;34m,\u001b[0m \u001b[0mverbose\u001b[0m\u001b[0;34m=\u001b[0m\u001b[0;36m1\u001b[0m\u001b[0;34m,\u001b[0m \u001b[0msample_weight\u001b[0m\u001b[0;34m=\u001b[0m\u001b[0mNone\u001b[0m\u001b[0;34m)\u001b[0m\u001b[0;34m:\u001b[0m\u001b[0;34m\u001b[0m\u001b[0m\n",
      "\u001b[0;32m/usr/local/lib/python2.7/dist-packages/keras/engine/training.pyc\u001b[0m in \u001b[0;36m_fit_loop\u001b[0;34m(self, f, ins, out_labels, batch_size, nb_epoch, verbose, callbacks, val_f, val_ins, shuffle, callback_metrics)\u001b[0m\n\u001b[1;32m    846\u001b[0m                     \u001b[0mbatch_logs\u001b[0m\u001b[0;34m[\u001b[0m\u001b[0ml\u001b[0m\u001b[0;34m]\u001b[0m \u001b[0;34m=\u001b[0m \u001b[0mo\u001b[0m\u001b[0;34m\u001b[0m\u001b[0m\n\u001b[1;32m    847\u001b[0m \u001b[0;34m\u001b[0m\u001b[0m\n\u001b[0;32m--> 848\u001b[0;31m                 \u001b[0mcallbacks\u001b[0m\u001b[0;34m.\u001b[0m\u001b[0mon_batch_end\u001b[0m\u001b[0;34m(\u001b[0m\u001b[0mbatch_index\u001b[0m\u001b[0;34m,\u001b[0m \u001b[0mbatch_logs\u001b[0m\u001b[0;34m)\u001b[0m\u001b[0;34m\u001b[0m\u001b[0m\n\u001b[0m\u001b[1;32m    849\u001b[0m \u001b[0;34m\u001b[0m\u001b[0m\n\u001b[1;32m    850\u001b[0m                 \u001b[0;32mif\u001b[0m \u001b[0mbatch_index\u001b[0m \u001b[0;34m==\u001b[0m \u001b[0mlen\u001b[0m\u001b[0;34m(\u001b[0m\u001b[0mbatches\u001b[0m\u001b[0;34m)\u001b[0m \u001b[0;34m-\u001b[0m \u001b[0;36m1\u001b[0m\u001b[0;34m:\u001b[0m  \u001b[0;31m# last batch\u001b[0m\u001b[0;34m\u001b[0m\u001b[0m\n",
      "\u001b[0;32m/usr/local/lib/python2.7/dist-packages/keras/callbacks.pyc\u001b[0m in \u001b[0;36mon_batch_end\u001b[0;34m(self, batch, logs)\u001b[0m\n\u001b[1;32m     61\u001b[0m         \u001b[0mt_before_callbacks\u001b[0m \u001b[0;34m=\u001b[0m \u001b[0mtime\u001b[0m\u001b[0;34m.\u001b[0m\u001b[0mtime\u001b[0m\u001b[0;34m(\u001b[0m\u001b[0;34m)\u001b[0m\u001b[0;34m\u001b[0m\u001b[0m\n\u001b[1;32m     62\u001b[0m         \u001b[0;32mfor\u001b[0m \u001b[0mcallback\u001b[0m \u001b[0;32min\u001b[0m \u001b[0mself\u001b[0m\u001b[0;34m.\u001b[0m\u001b[0mcallbacks\u001b[0m\u001b[0;34m:\u001b[0m\u001b[0;34m\u001b[0m\u001b[0m\n\u001b[0;32m---> 63\u001b[0;31m             \u001b[0mcallback\u001b[0m\u001b[0;34m.\u001b[0m\u001b[0mon_batch_end\u001b[0m\u001b[0;34m(\u001b[0m\u001b[0mbatch\u001b[0m\u001b[0;34m,\u001b[0m \u001b[0mlogs\u001b[0m\u001b[0;34m)\u001b[0m\u001b[0;34m\u001b[0m\u001b[0m\n\u001b[0m\u001b[1;32m     64\u001b[0m         \u001b[0mself\u001b[0m\u001b[0;34m.\u001b[0m\u001b[0m_delta_ts_batch_end\u001b[0m\u001b[0;34m.\u001b[0m\u001b[0mappend\u001b[0m\u001b[0;34m(\u001b[0m\u001b[0mtime\u001b[0m\u001b[0;34m.\u001b[0m\u001b[0mtime\u001b[0m\u001b[0;34m(\u001b[0m\u001b[0;34m)\u001b[0m \u001b[0;34m-\u001b[0m \u001b[0mt_before_callbacks\u001b[0m\u001b[0;34m)\u001b[0m\u001b[0;34m\u001b[0m\u001b[0m\n\u001b[1;32m     65\u001b[0m         \u001b[0mdelta_t_median\u001b[0m \u001b[0;34m=\u001b[0m \u001b[0mnp\u001b[0m\u001b[0;34m.\u001b[0m\u001b[0mmedian\u001b[0m\u001b[0;34m(\u001b[0m\u001b[0mself\u001b[0m\u001b[0;34m.\u001b[0m\u001b[0m_delta_ts_batch_end\u001b[0m\u001b[0;34m)\u001b[0m\u001b[0;34m\u001b[0m\u001b[0m\n",
      "\u001b[0;32m/usr/local/lib/python2.7/dist-packages/keras/callbacks.pyc\u001b[0m in \u001b[0;36mon_batch_end\u001b[0;34m(self, batch, logs)\u001b[0m\n\u001b[1;32m    149\u001b[0m         \u001b[0;32mfor\u001b[0m \u001b[0mk\u001b[0m\u001b[0;34m,\u001b[0m \u001b[0mv\u001b[0m \u001b[0;32min\u001b[0m \u001b[0mlogs\u001b[0m\u001b[0;34m.\u001b[0m\u001b[0mitems\u001b[0m\u001b[0;34m(\u001b[0m\u001b[0;34m)\u001b[0m\u001b[0;34m:\u001b[0m\u001b[0;34m\u001b[0m\u001b[0m\n\u001b[1;32m    150\u001b[0m             \u001b[0;32mif\u001b[0m \u001b[0mk\u001b[0m \u001b[0;32min\u001b[0m \u001b[0mself\u001b[0m\u001b[0;34m.\u001b[0m\u001b[0mtotals\u001b[0m\u001b[0;34m:\u001b[0m\u001b[0;34m\u001b[0m\u001b[0m\n\u001b[0;32m--> 151\u001b[0;31m                 \u001b[0mself\u001b[0m\u001b[0;34m.\u001b[0m\u001b[0mtotals\u001b[0m\u001b[0;34m[\u001b[0m\u001b[0mk\u001b[0m\u001b[0;34m]\u001b[0m \u001b[0;34m+=\u001b[0m \u001b[0mv\u001b[0m \u001b[0;34m*\u001b[0m \u001b[0mbatch_size\u001b[0m\u001b[0;34m\u001b[0m\u001b[0m\n\u001b[0m\u001b[1;32m    152\u001b[0m             \u001b[0;32melse\u001b[0m\u001b[0;34m:\u001b[0m\u001b[0;34m\u001b[0m\u001b[0m\n\u001b[1;32m    153\u001b[0m                 \u001b[0mself\u001b[0m\u001b[0;34m.\u001b[0m\u001b[0mtotals\u001b[0m\u001b[0;34m[\u001b[0m\u001b[0mk\u001b[0m\u001b[0;34m]\u001b[0m \u001b[0;34m=\u001b[0m \u001b[0mv\u001b[0m \u001b[0;34m*\u001b[0m \u001b[0mbatch_size\u001b[0m\u001b[0;34m\u001b[0m\u001b[0m\n",
      "\u001b[0;31mKeyboardInterrupt\u001b[0m: "
     ]
    }
   ],
   "source": [
    "def trainNetForData(Datapath,Labelpath,node_size,epoches):\n",
    "    PD_Data = ReadData(Datapath)\n",
    "    PD_Label = ReadData(Labelpath)\n",
    "    Full_Data=PD_Data.as_matrix()\n",
    "    Full_Label=PD_Label.as_matrix()\n",
    "    indecs=np.random.permutation(len(Full_Data))\n",
    "    Full_Data=Full_Data[indecs]\n",
    "    Full_Label=Full_Label[indecs]\n",
    "    m_data,n_data=Full_Data.shape\n",
    "    m_label,n_label=Full_Label.shape\n",
    "    Train_Data = Full_Data[:int(m_data*0.9)]\n",
    "    Train_Label = Full_Label[:int(m_data*0.9)]\n",
    "    Label_Weights = (1.0/np.square(np.max(Train_Label,axis=0)+1))*10\n",
    "    Test_Data = Full_Data[int(m_data*0.9):]\n",
    "    Test_Label = Full_Label[int(m_data*0.9):]    \n",
    "    #LINEAR\n",
    "    DNN1=DenselyConnectedNetwork(n_data,node_size,n_label,0,0.1,Label_Weights)\n",
    "    mean_DNN,std_DNN=DNN1.Train(Train_Data, Train_Label,epoches,True)\n",
    "    DNN1.ShowHistory()\n",
    "    #SINGLE\n",
    "    DNN2=DenselyConnectedNetwork(n_data,node_size,n_label,1,0.1,Label_Weights)\n",
    "    mean_DNN,std_DNN=DNN2.Train(Train_Data, Train_Label,epoches,True)\n",
    "    DNN2.ShowHistory()\n",
    "    #DOUBLE\n",
    "    DNN3=DenselyConnectedNetwork(n_data,node_size,n_label,2,0.1,Label_Weights)\n",
    "    mean_DNN,std_DNN=DNN3.Train(Train_Data, Train_Label,epoches,True)\n",
    "    DNN3.ShowHistory()\n",
    "    plt.legend(['Train-0-Hidden', 'Test-0-Hidden','Train-1-Hidden', 'Test-1-Hidden','Train-2-Hidden', 'Test-2-Hidden'], loc='upper left')\n",
    "    plt.savefig('train_curve.png')\n",
    "    return DNN1,DNN2,DNN3,Test_Data,Test_Label,mean_DNN,std_DNN\n",
    "\n",
    "Datapath=\"HVAC_VAV_Data.txt\"\n",
    "Labelpath=\"HVAC_VAV_Label.txt\"\n",
    "DNN1,DNN2,DNN3,Test_Data,Test_Label,mean_DNN,std_DNN=trainNetForData(Datapath,Labelpath,32,100)\n",
    "performanceCheck(DNN1,DNN2,DNN3,Test_Data,Test_Label,mean_DNN,std_DNN)"
   ]
  },
  {
   "cell_type": "code",
   "execution_count": 49,
   "metadata": {
    "collapsed": false
   },
   "outputs": [
    {
     "name": "stderr",
     "output_type": "stream",
     "text": [
      "/usr/local/lib/python2.7/dist-packages/ipykernel/__main__.py:14: DeprecationWarning: elementwise == comparison failed; this will raise an error in the future.\n"
     ]
    },
    {
     "name": "stdout",
     "output_type": "stream",
     "text": [
      "Complete testing\n"
     ]
    },
    {
     "data": {
      "image/png": "[encoded data removed]",
      "text/plain": [
       "<matplotlib.figure.Figure at 0x7f05782b2790>"
      ]
     },
     "metadata": {},
     "output_type": "display_data"
    }
   ],
   "source": [
    "performanceCheck(DNN1,DNN2,DNN3,Test_Data,Test_Label,mean_DNN,std_DNN)"
   ]
  },
  {
   "cell_type": "code",
   "execution_count": null,
   "metadata": {
    "collapsed": true
   },
   "outputs": [],
   "source": []
  }
 ],
 "metadata": {
  "kernelspec": {
   "display_name": "Python 2",
   "language": "python",
   "name": "python2"
  },
  "language_info": {
   "codemirror_mode": {
    "name": "ipython",
    "version": 2
   },
   "file_extension": ".py",
   "mimetype": "text/x-python",
   "name": "python",
   "nbconvert_exporter": "python",
   "pygments_lexer": "ipython2",
   "version": "2.7.6"
  }
 },
 "nbformat": 4,
 "nbformat_minor": 1
}

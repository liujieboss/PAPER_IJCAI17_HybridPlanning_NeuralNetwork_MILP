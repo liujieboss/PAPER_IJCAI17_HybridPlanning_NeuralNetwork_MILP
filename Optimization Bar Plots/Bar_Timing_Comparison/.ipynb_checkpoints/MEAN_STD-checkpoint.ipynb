{
 "cells": [
  {
   "cell_type": "code",
   "execution_count": 1,
   "metadata": {
    "collapsed": true
   },
   "outputs": [],
   "source": [
    "%matplotlib inline\n",
    "import random\n",
    "import os\n",
    "import json\n",
    "import sys\n",
    "import string\n",
    "import unicodedata\n",
    "from tqdm import tqdm\n",
    "import pandas as pd\n",
    "import numpy as np\n",
    "import matplotlib.pyplot as plt\n",
    "import matplotlib.patches as patches\n",
    "import matplotlib as mpl"
   ]
  },
  {
   "cell_type": "code",
   "execution_count": 2,
   "metadata": {
    "collapsed": true
   },
   "outputs": [],
   "source": [
    "#Given local path, find full path\n",
    "def PathFinder(path):\n",
    "    script_dir = os.path.dirname('__file__')\n",
    "    fullpath = os.path.join(script_dir,path)\n",
    "    return fullpath\n",
    "\n",
    "#Read Data for Deep Learning\n",
    "def ReadData(path):\n",
    "    fullpath=PathFinder(path)\n",
    "    return pd.read_csv(fullpath, sep=',', header=0,index_col=False)"
   ]
  },
  {
   "cell_type": "code",
   "execution_count": 3,
   "metadata": {
    "collapsed": false,
    "scrolled": true
   },
   "outputs": [],
   "source": [
    "data_df=ReadData('Data.txt')\n",
    "domain_df=ReadData('Domain.txt')"
   ]
  },
  {
   "cell_type": "code",
   "execution_count": 4,
   "metadata": {
    "collapsed": false
   },
   "outputs": [],
   "source": [
    "data_df=data_df.join(domain_df.set_index('Domain'),on='Domain')"
   ]
  },
  {
   "cell_type": "code",
   "execution_count": 5,
   "metadata": {
    "collapsed": false,
    "scrolled": true
   },
   "outputs": [
    {
     "data": {
      "text/html": [
       "<div>\n",
       "<table border=\"1\" class=\"dataframe\">\n",
       "  <thead>\n",
       "    <tr style=\"text-align: right;\">\n",
       "      <th></th>\n",
       "      <th>Domain</th>\n",
       "      <th>Horizon</th>\n",
       "      <th>Size</th>\n",
       "      <th>Naive</th>\n",
       "      <th>Strengthened</th>\n",
       "      <th>Domain_Name</th>\n",
       "    </tr>\n",
       "  </thead>\n",
       "  <tbody>\n",
       "    <tr>\n",
       "      <th>0</th>\n",
       "      <td>H</td>\n",
       "      <td>10</td>\n",
       "      <td>3</td>\n",
       "      <td>4.503</td>\n",
       "      <td>5.176</td>\n",
       "      <td>HVAC</td>\n",
       "    </tr>\n",
       "    <tr>\n",
       "      <th>1</th>\n",
       "      <td>H</td>\n",
       "      <td>10</td>\n",
       "      <td>6</td>\n",
       "      <td>34.314</td>\n",
       "      <td>16.639</td>\n",
       "      <td>HVAC</td>\n",
       "    </tr>\n",
       "    <tr>\n",
       "      <th>2</th>\n",
       "      <td>H</td>\n",
       "      <td>20</td>\n",
       "      <td>3</td>\n",
       "      <td>11.946</td>\n",
       "      <td>32.415</td>\n",
       "      <td>HVAC</td>\n",
       "    </tr>\n",
       "    <tr>\n",
       "      <th>3</th>\n",
       "      <td>H</td>\n",
       "      <td>20</td>\n",
       "      <td>6</td>\n",
       "      <td>651.069</td>\n",
       "      <td>677.459</td>\n",
       "      <td>HVAC</td>\n",
       "    </tr>\n",
       "    <tr>\n",
       "      <th>4</th>\n",
       "      <td>N</td>\n",
       "      <td>8</td>\n",
       "      <td>8</td>\n",
       "      <td>3600.000</td>\n",
       "      <td>1054.930</td>\n",
       "      <td>Navigation</td>\n",
       "    </tr>\n",
       "    <tr>\n",
       "      <th>5</th>\n",
       "      <td>N</td>\n",
       "      <td>8</td>\n",
       "      <td>10</td>\n",
       "      <td>3600.000</td>\n",
       "      <td>896.676</td>\n",
       "      <td>Navigation</td>\n",
       "    </tr>\n",
       "    <tr>\n",
       "      <th>6</th>\n",
       "      <td>N</td>\n",
       "      <td>10</td>\n",
       "      <td>8</td>\n",
       "      <td>3600.000</td>\n",
       "      <td>960.203</td>\n",
       "      <td>Navigation</td>\n",
       "    </tr>\n",
       "    <tr>\n",
       "      <th>7</th>\n",
       "      <td>N</td>\n",
       "      <td>10</td>\n",
       "      <td>10</td>\n",
       "      <td>3600.000</td>\n",
       "      <td>791.281</td>\n",
       "      <td>Navigation</td>\n",
       "    </tr>\n",
       "    <tr>\n",
       "      <th>8</th>\n",
       "      <td>R</td>\n",
       "      <td>10</td>\n",
       "      <td>3</td>\n",
       "      <td>5.426</td>\n",
       "      <td>5.865</td>\n",
       "      <td>Reservoir</td>\n",
       "    </tr>\n",
       "    <tr>\n",
       "      <th>9</th>\n",
       "      <td>R</td>\n",
       "      <td>10</td>\n",
       "      <td>4</td>\n",
       "      <td>23.953</td>\n",
       "      <td>11.073</td>\n",
       "      <td>Reservoir</td>\n",
       "    </tr>\n",
       "    <tr>\n",
       "      <th>10</th>\n",
       "      <td>R</td>\n",
       "      <td>20</td>\n",
       "      <td>3</td>\n",
       "      <td>8.546</td>\n",
       "      <td>12.908</td>\n",
       "      <td>Reservoir</td>\n",
       "    </tr>\n",
       "    <tr>\n",
       "      <th>11</th>\n",
       "      <td>R</td>\n",
       "      <td>20</td>\n",
       "      <td>4</td>\n",
       "      <td>49.268</td>\n",
       "      <td>18.205</td>\n",
       "      <td>Reservoir</td>\n",
       "    </tr>\n",
       "  </tbody>\n",
       "</table>\n",
       "</div>"
      ],
      "text/plain": [
       "   Domain  Horizon  Size     Naive  Strengthened Domain_Name\n",
       "0       H       10     3     4.503         5.176        HVAC\n",
       "1       H       10     6    34.314        16.639        HVAC\n",
       "2       H       20     3    11.946        32.415        HVAC\n",
       "3       H       20     6   651.069       677.459        HVAC\n",
       "4       N        8     8  3600.000      1054.930  Navigation\n",
       "5       N        8    10  3600.000       896.676  Navigation\n",
       "6       N       10     8  3600.000       960.203  Navigation\n",
       "7       N       10    10  3600.000       791.281  Navigation\n",
       "8       R       10     3     5.426         5.865   Reservoir\n",
       "9       R       10     4    23.953        11.073   Reservoir\n",
       "10      R       20     3     8.546        12.908   Reservoir\n",
       "11      R       20     4    49.268        18.205   Reservoir"
      ]
     },
     "execution_count": 5,
     "metadata": {},
     "output_type": "execute_result"
    }
   ],
   "source": [
    "data_df"
   ]
  },
  {
   "cell_type": "code",
   "execution_count": 6,
   "metadata": {
    "collapsed": false
   },
   "outputs": [],
   "source": [
    "data_final_df=data_df[['Domain_Name','Size','Horizon','Naive','Strengthened']]"
   ]
  },
  {
   "cell_type": "code",
   "execution_count": 7,
   "metadata": {
    "collapsed": false
   },
   "outputs": [
    {
     "data": {
      "text/html": [
       "<div>\n",
       "<table border=\"1\" class=\"dataframe\">\n",
       "  <thead>\n",
       "    <tr style=\"text-align: right;\">\n",
       "      <th></th>\n",
       "      <th>Domain_Name</th>\n",
       "      <th>Size</th>\n",
       "      <th>Horizon</th>\n",
       "      <th>Naive</th>\n",
       "      <th>Strengthened</th>\n",
       "    </tr>\n",
       "  </thead>\n",
       "  <tbody>\n",
       "    <tr>\n",
       "      <th>0</th>\n",
       "      <td>HVAC</td>\n",
       "      <td>3</td>\n",
       "      <td>10</td>\n",
       "      <td>4.503</td>\n",
       "      <td>5.176</td>\n",
       "    </tr>\n",
       "    <tr>\n",
       "      <th>1</th>\n",
       "      <td>HVAC</td>\n",
       "      <td>6</td>\n",
       "      <td>10</td>\n",
       "      <td>34.314</td>\n",
       "      <td>16.639</td>\n",
       "    </tr>\n",
       "    <tr>\n",
       "      <th>2</th>\n",
       "      <td>HVAC</td>\n",
       "      <td>3</td>\n",
       "      <td>20</td>\n",
       "      <td>11.946</td>\n",
       "      <td>32.415</td>\n",
       "    </tr>\n",
       "    <tr>\n",
       "      <th>3</th>\n",
       "      <td>HVAC</td>\n",
       "      <td>6</td>\n",
       "      <td>20</td>\n",
       "      <td>651.069</td>\n",
       "      <td>677.459</td>\n",
       "    </tr>\n",
       "    <tr>\n",
       "      <th>4</th>\n",
       "      <td>Navigation</td>\n",
       "      <td>8</td>\n",
       "      <td>8</td>\n",
       "      <td>3600.000</td>\n",
       "      <td>1054.930</td>\n",
       "    </tr>\n",
       "    <tr>\n",
       "      <th>5</th>\n",
       "      <td>Navigation</td>\n",
       "      <td>10</td>\n",
       "      <td>8</td>\n",
       "      <td>3600.000</td>\n",
       "      <td>896.676</td>\n",
       "    </tr>\n",
       "    <tr>\n",
       "      <th>6</th>\n",
       "      <td>Navigation</td>\n",
       "      <td>8</td>\n",
       "      <td>10</td>\n",
       "      <td>3600.000</td>\n",
       "      <td>960.203</td>\n",
       "    </tr>\n",
       "    <tr>\n",
       "      <th>7</th>\n",
       "      <td>Navigation</td>\n",
       "      <td>10</td>\n",
       "      <td>10</td>\n",
       "      <td>3600.000</td>\n",
       "      <td>791.281</td>\n",
       "    </tr>\n",
       "    <tr>\n",
       "      <th>8</th>\n",
       "      <td>Reservoir</td>\n",
       "      <td>3</td>\n",
       "      <td>10</td>\n",
       "      <td>5.426</td>\n",
       "      <td>5.865</td>\n",
       "    </tr>\n",
       "    <tr>\n",
       "      <th>9</th>\n",
       "      <td>Reservoir</td>\n",
       "      <td>4</td>\n",
       "      <td>10</td>\n",
       "      <td>23.953</td>\n",
       "      <td>11.073</td>\n",
       "    </tr>\n",
       "    <tr>\n",
       "      <th>10</th>\n",
       "      <td>Reservoir</td>\n",
       "      <td>3</td>\n",
       "      <td>20</td>\n",
       "      <td>8.546</td>\n",
       "      <td>12.908</td>\n",
       "    </tr>\n",
       "    <tr>\n",
       "      <th>11</th>\n",
       "      <td>Reservoir</td>\n",
       "      <td>4</td>\n",
       "      <td>20</td>\n",
       "      <td>49.268</td>\n",
       "      <td>18.205</td>\n",
       "    </tr>\n",
       "  </tbody>\n",
       "</table>\n",
       "</div>"
      ],
      "text/plain": [
       "   Domain_Name  Size  Horizon     Naive  Strengthened\n",
       "0         HVAC     3       10     4.503         5.176\n",
       "1         HVAC     6       10    34.314        16.639\n",
       "2         HVAC     3       20    11.946        32.415\n",
       "3         HVAC     6       20   651.069       677.459\n",
       "4   Navigation     8        8  3600.000      1054.930\n",
       "5   Navigation    10        8  3600.000       896.676\n",
       "6   Navigation     8       10  3600.000       960.203\n",
       "7   Navigation    10       10  3600.000       791.281\n",
       "8    Reservoir     3       10     5.426         5.865\n",
       "9    Reservoir     4       10    23.953        11.073\n",
       "10   Reservoir     3       20     8.546        12.908\n",
       "11   Reservoir     4       20    49.268        18.205"
      ]
     },
     "execution_count": 7,
     "metadata": {},
     "output_type": "execute_result"
    }
   ],
   "source": [
    "data_final_df"
   ]
  },
  {
   "cell_type": "code",
   "execution_count": 9,
   "metadata": {
    "collapsed": false
   },
   "outputs": [
    {
     "data": {
      "image/png": "[encoded data removed]",
      "text/plain": [
       "<matplotlib.figure.Figure at 0x7fe16c76be90>"
      ]
     },
     "metadata": {},
     "output_type": "display_data"
    },
    {
     "data": {
      "image/png": "[encoded data removed]",
      "text/plain": [
       "<matplotlib.figure.Figure at 0x7fe13526ab50>"
      ]
     },
     "metadata": {},
     "output_type": "display_data"
    },
    {
     "data": {
      "image/png": "[encoded data removed]",
      "text/plain": [
       "<matplotlib.figure.Figure at 0x7fe13525a9d0>"
      ]
     },
     "metadata": {},
     "output_type": "display_data"
    }
   ],
   "source": [
    "dfs = data_final_df.groupby(['Domain_Name'])\n",
    "for name,group in dfs:\n",
    "    plot = group[['Domain_Name','Size','Horizon']].plot(kind='bar', color=['green','blue'],x=['Domain_Name','Size','Horizon'])\n",
    "    fig = plot.get_figure()\n",
    "    ax = fig.add_subplot(111)\n",
    "    ax.yaxis.tick_right()\n",
    "    fig.set_size_inches(4, 4)\n",
    "    plt.xticks(rotation=15)\n",
    "    #plt.yticks(rotation=15)\n",
    "    plt.ylabel('Total Run Time (in seconds)')\n",
    "    #plt.xlabel('Domain,Size,Horizon')\n",
    "    plt.xlabel('Problem Instance')\n",
    "    plt.tight_layout()\n",
    "    plt.legend(loc='lower left', shadow=True,prop={'size':10})\n",
    "    plt.savefig(name+'_BAR.eps',format='eps')"
   ]
  },
  {
   "cell_type": "code",
   "execution_count": null,
   "metadata": {
    "collapsed": true
   },
   "outputs": [],
   "source": []
  },
  {
   "cell_type": "code",
   "execution_count": null,
   "metadata": {
    "collapsed": true
   },
   "outputs": [],
   "source": []
  }
 ],
 "metadata": {
  "kernelspec": {
   "display_name": "Python 2",
   "language": "python",
   "name": "python2"
  },
  "language_info": {
   "codemirror_mode": {
    "name": "ipython",
    "version": 2
   },
   "file_extension": ".py",
   "mimetype": "text/x-python",
   "name": "python",
   "nbconvert_exporter": "python",
   "pygments_lexer": "ipython2",
   "version": "2.7.6"
  }
 },
 "nbformat": 4,
 "nbformat_minor": 1
}

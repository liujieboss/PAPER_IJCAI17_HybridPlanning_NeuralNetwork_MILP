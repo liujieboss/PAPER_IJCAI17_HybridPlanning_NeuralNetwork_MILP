{
 "cells": [
  {
   "cell_type": "code",
   "execution_count": 1,
   "metadata": {
    "collapsed": true
   },
   "outputs": [],
   "source": [
    "%matplotlib inline\n",
    "import random\n",
    "import os\n",
    "import json\n",
    "import sys\n",
    "import string\n",
    "import unicodedata\n",
    "from tqdm import tqdm\n",
    "import pandas as pd\n",
    "import numpy as np\n",
    "import matplotlib.pyplot as plt\n",
    "import matplotlib.patches as patches\n",
    "import matplotlib as mpl"
   ]
  },
  {
   "cell_type": "code",
   "execution_count": 2,
   "metadata": {
    "collapsed": true
   },
   "outputs": [],
   "source": [
    "#Given local path, find full path\n",
    "def PathFinder(path):\n",
    "    script_dir = os.path.dirname('__file__')\n",
    "    fullpath = os.path.join(script_dir,path)\n",
    "    return fullpath\n",
    "\n",
    "#Read Data for Deep Learning\n",
    "def ReadData(path):\n",
    "    fullpath=PathFinder(path)\n",
    "    return pd.read_csv(fullpath, sep=',', header=0,index_col=False)"
   ]
  },
  {
   "cell_type": "code",
   "execution_count": 3,
   "metadata": {
    "collapsed": false,
    "scrolled": true
   },
   "outputs": [],
   "source": [
    "data_df=ReadData('hist.txt')\n",
    "domain_df=ReadData('Domain.txt')"
   ]
  },
  {
   "cell_type": "code",
   "execution_count": 4,
   "metadata": {
    "collapsed": false
   },
   "outputs": [],
   "source": [
    "data_df=data_df.join(domain_df.set_index('Domain'),on='Domain')"
   ]
  },
  {
   "cell_type": "code",
   "execution_count": 5,
   "metadata": {
    "collapsed": false,
    "scrolled": true
   },
   "outputs": [
    {
     "data": {
      "text/html": [
       "<div>\n",
       "<table border=\"1\" class=\"dataframe\">\n",
       "  <thead>\n",
       "    <tr style=\"text-align: right;\">\n",
       "      <th></th>\n",
       "      <th>Domain</th>\n",
       "      <th>Horizon</th>\n",
       "      <th>Size</th>\n",
       "      <th>MILP</th>\n",
       "      <th>Policy</th>\n",
       "      <th>StDev1</th>\n",
       "      <th>StDev2</th>\n",
       "      <th>Domain_Name</th>\n",
       "    </tr>\n",
       "  </thead>\n",
       "  <tbody>\n",
       "    <tr>\n",
       "      <th>0</th>\n",
       "      <td>H</td>\n",
       "      <td>10</td>\n",
       "      <td>3</td>\n",
       "      <td>-240.9760</td>\n",
       "      <td>-240.9670</td>\n",
       "      <td>0</td>\n",
       "      <td>0.0000</td>\n",
       "      <td>HVAC</td>\n",
       "    </tr>\n",
       "    <tr>\n",
       "      <th>1</th>\n",
       "      <td>H</td>\n",
       "      <td>10</td>\n",
       "      <td>6</td>\n",
       "      <td>-482.0050</td>\n",
       "      <td>-482.1210</td>\n",
       "      <td>0</td>\n",
       "      <td>0.0000</td>\n",
       "      <td>HVAC</td>\n",
       "    </tr>\n",
       "    <tr>\n",
       "      <th>2</th>\n",
       "      <td>H</td>\n",
       "      <td>20</td>\n",
       "      <td>3</td>\n",
       "      <td>-241.1290</td>\n",
       "      <td>-241.0530</td>\n",
       "      <td>0</td>\n",
       "      <td>0.0000</td>\n",
       "      <td>HVAC</td>\n",
       "    </tr>\n",
       "    <tr>\n",
       "      <th>3</th>\n",
       "      <td>H</td>\n",
       "      <td>20</td>\n",
       "      <td>6</td>\n",
       "      <td>-482.1880</td>\n",
       "      <td>-482.5510</td>\n",
       "      <td>0</td>\n",
       "      <td>0.0000</td>\n",
       "      <td>HVAC</td>\n",
       "    </tr>\n",
       "    <tr>\n",
       "      <th>4</th>\n",
       "      <td>N</td>\n",
       "      <td>8</td>\n",
       "      <td>8</td>\n",
       "      <td>-63.6575</td>\n",
       "      <td>-92.8957</td>\n",
       "      <td>0</td>\n",
       "      <td>6.6003</td>\n",
       "      <td>Navigation</td>\n",
       "    </tr>\n",
       "    <tr>\n",
       "      <th>5</th>\n",
       "      <td>N</td>\n",
       "      <td>8</td>\n",
       "      <td>10</td>\n",
       "      <td>-64.3327</td>\n",
       "      <td>-110.0267</td>\n",
       "      <td>0</td>\n",
       "      <td>5.9607</td>\n",
       "      <td>Navigation</td>\n",
       "    </tr>\n",
       "    <tr>\n",
       "      <th>6</th>\n",
       "      <td>N</td>\n",
       "      <td>10</td>\n",
       "      <td>8</td>\n",
       "      <td>-76.6444</td>\n",
       "      <td>-108.0979</td>\n",
       "      <td>0</td>\n",
       "      <td>7.7365</td>\n",
       "      <td>Navigation</td>\n",
       "    </tr>\n",
       "    <tr>\n",
       "      <th>7</th>\n",
       "      <td>N</td>\n",
       "      <td>10</td>\n",
       "      <td>10</td>\n",
       "      <td>-80.1152</td>\n",
       "      <td>-129.5069</td>\n",
       "      <td>0</td>\n",
       "      <td>8.4716</td>\n",
       "      <td>Navigation</td>\n",
       "    </tr>\n",
       "    <tr>\n",
       "      <th>8</th>\n",
       "      <td>R</td>\n",
       "      <td>10</td>\n",
       "      <td>3</td>\n",
       "      <td>-201.1100</td>\n",
       "      <td>-246.0971</td>\n",
       "      <td>0</td>\n",
       "      <td>3.2842</td>\n",
       "      <td>Reservoir</td>\n",
       "    </tr>\n",
       "    <tr>\n",
       "      <th>9</th>\n",
       "      <td>R</td>\n",
       "      <td>10</td>\n",
       "      <td>4</td>\n",
       "      <td>-678.7910</td>\n",
       "      <td>-741.4636</td>\n",
       "      <td>0</td>\n",
       "      <td>4.0646</td>\n",
       "      <td>Reservoir</td>\n",
       "    </tr>\n",
       "    <tr>\n",
       "      <th>10</th>\n",
       "      <td>R</td>\n",
       "      <td>20</td>\n",
       "      <td>3</td>\n",
       "      <td>-218.8270</td>\n",
       "      <td>-291.8632</td>\n",
       "      <td>0</td>\n",
       "      <td>2.9579</td>\n",
       "      <td>Reservoir</td>\n",
       "    </tr>\n",
       "    <tr>\n",
       "      <th>11</th>\n",
       "      <td>R</td>\n",
       "      <td>20</td>\n",
       "      <td>4</td>\n",
       "      <td>-744.3230</td>\n",
       "      <td>-888.0519</td>\n",
       "      <td>0</td>\n",
       "      <td>5.5660</td>\n",
       "      <td>Reservoir</td>\n",
       "    </tr>\n",
       "  </tbody>\n",
       "</table>\n",
       "</div>"
      ],
      "text/plain": [
       "   Domain  Horizon  Size      MILP    Policy  StDev1  StDev2 Domain_Name\n",
       "0       H       10     3 -240.9760 -240.9670       0  0.0000        HVAC\n",
       "1       H       10     6 -482.0050 -482.1210       0  0.0000        HVAC\n",
       "2       H       20     3 -241.1290 -241.0530       0  0.0000        HVAC\n",
       "3       H       20     6 -482.1880 -482.5510       0  0.0000        HVAC\n",
       "4       N        8     8  -63.6575  -92.8957       0  6.6003  Navigation\n",
       "5       N        8    10  -64.3327 -110.0267       0  5.9607  Navigation\n",
       "6       N       10     8  -76.6444 -108.0979       0  7.7365  Navigation\n",
       "7       N       10    10  -80.1152 -129.5069       0  8.4716  Navigation\n",
       "8       R       10     3 -201.1100 -246.0971       0  3.2842   Reservoir\n",
       "9       R       10     4 -678.7910 -741.4636       0  4.0646   Reservoir\n",
       "10      R       20     3 -218.8270 -291.8632       0  2.9579   Reservoir\n",
       "11      R       20     4 -744.3230 -888.0519       0  5.5660   Reservoir"
      ]
     },
     "execution_count": 5,
     "metadata": {},
     "output_type": "execute_result"
    }
   ],
   "source": [
    "data_df"
   ]
  },
  {
   "cell_type": "code",
   "execution_count": 6,
   "metadata": {
    "collapsed": false
   },
   "outputs": [],
   "source": [
    "data_final_df=data_df[['Domain_Name','Size','Horizon','MILP','Policy','StDev1','StDev2']]"
   ]
  },
  {
   "cell_type": "code",
   "execution_count": 7,
   "metadata": {
    "collapsed": false
   },
   "outputs": [
    {
     "data": {
      "text/html": [
       "<div>\n",
       "<table border=\"1\" class=\"dataframe\">\n",
       "  <thead>\n",
       "    <tr style=\"text-align: right;\">\n",
       "      <th></th>\n",
       "      <th>Domain_Name</th>\n",
       "      <th>Size</th>\n",
       "      <th>Horizon</th>\n",
       "      <th>MILP</th>\n",
       "      <th>Policy</th>\n",
       "      <th>StDev1</th>\n",
       "      <th>StDev2</th>\n",
       "    </tr>\n",
       "  </thead>\n",
       "  <tbody>\n",
       "    <tr>\n",
       "      <th>0</th>\n",
       "      <td>HVAC</td>\n",
       "      <td>3</td>\n",
       "      <td>10</td>\n",
       "      <td>-240.9760</td>\n",
       "      <td>-240.9670</td>\n",
       "      <td>0</td>\n",
       "      <td>0.0000</td>\n",
       "    </tr>\n",
       "    <tr>\n",
       "      <th>1</th>\n",
       "      <td>HVAC</td>\n",
       "      <td>6</td>\n",
       "      <td>10</td>\n",
       "      <td>-482.0050</td>\n",
       "      <td>-482.1210</td>\n",
       "      <td>0</td>\n",
       "      <td>0.0000</td>\n",
       "    </tr>\n",
       "    <tr>\n",
       "      <th>2</th>\n",
       "      <td>HVAC</td>\n",
       "      <td>3</td>\n",
       "      <td>20</td>\n",
       "      <td>-241.1290</td>\n",
       "      <td>-241.0530</td>\n",
       "      <td>0</td>\n",
       "      <td>0.0000</td>\n",
       "    </tr>\n",
       "    <tr>\n",
       "      <th>3</th>\n",
       "      <td>HVAC</td>\n",
       "      <td>6</td>\n",
       "      <td>20</td>\n",
       "      <td>-482.1880</td>\n",
       "      <td>-482.5510</td>\n",
       "      <td>0</td>\n",
       "      <td>0.0000</td>\n",
       "    </tr>\n",
       "    <tr>\n",
       "      <th>4</th>\n",
       "      <td>Navigation</td>\n",
       "      <td>8</td>\n",
       "      <td>8</td>\n",
       "      <td>-63.6575</td>\n",
       "      <td>-92.8957</td>\n",
       "      <td>0</td>\n",
       "      <td>6.6003</td>\n",
       "    </tr>\n",
       "    <tr>\n",
       "      <th>5</th>\n",
       "      <td>Navigation</td>\n",
       "      <td>10</td>\n",
       "      <td>8</td>\n",
       "      <td>-64.3327</td>\n",
       "      <td>-110.0267</td>\n",
       "      <td>0</td>\n",
       "      <td>5.9607</td>\n",
       "    </tr>\n",
       "    <tr>\n",
       "      <th>6</th>\n",
       "      <td>Navigation</td>\n",
       "      <td>8</td>\n",
       "      <td>10</td>\n",
       "      <td>-76.6444</td>\n",
       "      <td>-108.0979</td>\n",
       "      <td>0</td>\n",
       "      <td>7.7365</td>\n",
       "    </tr>\n",
       "    <tr>\n",
       "      <th>7</th>\n",
       "      <td>Navigation</td>\n",
       "      <td>10</td>\n",
       "      <td>10</td>\n",
       "      <td>-80.1152</td>\n",
       "      <td>-129.5069</td>\n",
       "      <td>0</td>\n",
       "      <td>8.4716</td>\n",
       "    </tr>\n",
       "    <tr>\n",
       "      <th>8</th>\n",
       "      <td>Reservoir</td>\n",
       "      <td>3</td>\n",
       "      <td>10</td>\n",
       "      <td>-201.1100</td>\n",
       "      <td>-246.0971</td>\n",
       "      <td>0</td>\n",
       "      <td>3.2842</td>\n",
       "    </tr>\n",
       "    <tr>\n",
       "      <th>9</th>\n",
       "      <td>Reservoir</td>\n",
       "      <td>4</td>\n",
       "      <td>10</td>\n",
       "      <td>-678.7910</td>\n",
       "      <td>-741.4636</td>\n",
       "      <td>0</td>\n",
       "      <td>4.0646</td>\n",
       "    </tr>\n",
       "    <tr>\n",
       "      <th>10</th>\n",
       "      <td>Reservoir</td>\n",
       "      <td>3</td>\n",
       "      <td>20</td>\n",
       "      <td>-218.8270</td>\n",
       "      <td>-291.8632</td>\n",
       "      <td>0</td>\n",
       "      <td>2.9579</td>\n",
       "    </tr>\n",
       "    <tr>\n",
       "      <th>11</th>\n",
       "      <td>Reservoir</td>\n",
       "      <td>4</td>\n",
       "      <td>20</td>\n",
       "      <td>-744.3230</td>\n",
       "      <td>-888.0519</td>\n",
       "      <td>0</td>\n",
       "      <td>5.5660</td>\n",
       "    </tr>\n",
       "  </tbody>\n",
       "</table>\n",
       "</div>"
      ],
      "text/plain": [
       "   Domain_Name  Size  Horizon      MILP    Policy  StDev1  StDev2\n",
       "0         HVAC     3       10 -240.9760 -240.9670       0  0.0000\n",
       "1         HVAC     6       10 -482.0050 -482.1210       0  0.0000\n",
       "2         HVAC     3       20 -241.1290 -241.0530       0  0.0000\n",
       "3         HVAC     6       20 -482.1880 -482.5510       0  0.0000\n",
       "4   Navigation     8        8  -63.6575  -92.8957       0  6.6003\n",
       "5   Navigation    10        8  -64.3327 -110.0267       0  5.9607\n",
       "6   Navigation     8       10  -76.6444 -108.0979       0  7.7365\n",
       "7   Navigation    10       10  -80.1152 -129.5069       0  8.4716\n",
       "8    Reservoir     3       10 -201.1100 -246.0971       0  3.2842\n",
       "9    Reservoir     4       10 -678.7910 -741.4636       0  4.0646\n",
       "10   Reservoir     3       20 -218.8270 -291.8632       0  2.9579\n",
       "11   Reservoir     4       20 -744.3230 -888.0519       0  5.5660"
      ]
     },
     "execution_count": 7,
     "metadata": {},
     "output_type": "execute_result"
    }
   ],
   "source": [
    "data_final_df"
   ]
  },
  {
   "cell_type": "code",
   "execution_count": 8,
   "metadata": {
    "collapsed": false
   },
   "outputs": [
    {
     "data": {
      "image/png": "[encoded data removed]",
      "text/plain": [
       "<matplotlib.figure.Figure at 0x7f5f1d593e90>"
      ]
     },
     "metadata": {},
     "output_type": "display_data"
    },
    {
     "data": {
      "image/png": "[encoded data removed]",
      "text/plain": [
       "<matplotlib.figure.Figure at 0x7f5f199e6990>"
      ]
     },
     "metadata": {},
     "output_type": "display_data"
    },
    {
     "data": {
      "image/png": "[encoded data removed]",
      "text/plain": [
       "<matplotlib.figure.Figure at 0x7f5f199bca90>"
      ]
     },
     "metadata": {},
     "output_type": "display_data"
    }
   ],
   "source": [
    "dfs = data_final_df.groupby(['Domain_Name'])\n",
    "for name,group in dfs:\n",
    "    plot = group[['Domain_Name','Size','Horizon','MILP','Policy']].plot(kind='bar', color=['blue','red'],yerr=group[['StDev1','StDev2']].values.T,x=['Domain_Name','Size','Horizon'])\n",
    "    fig = plot.get_figure()\n",
    "    ax = fig.add_subplot(111)\n",
    "    ax.yaxis.tick_right()\n",
    "    fig.set_size_inches(4, 4)\n",
    "    plt.xticks(rotation=15)\n",
    "    #plt.yticks(rotation=15)\n",
    "    if(name=='HVAC'):\n",
    "        plt.ylabel('Total Reward (in thousands)')\n",
    "    else:\n",
    "        plt.ylabel('Total Reward')\n",
    "    #plt.xlabel('Domain,Size,Horizon')\n",
    "    plt.gca().invert_yaxis()\n",
    "    plt.xlabel('Problem Instance')\n",
    "    plt.tight_layout()\n",
    "    plt.legend(loc='lower left', shadow=True,prop={'size':10})\n",
    "    plt.savefig(name+'_BAR.eps',format='eps')"
   ]
  },
  {
   "cell_type": "code",
   "execution_count": null,
   "metadata": {
    "collapsed": true
   },
   "outputs": [],
   "source": []
  },
  {
   "cell_type": "code",
   "execution_count": null,
   "metadata": {
    "collapsed": true
   },
   "outputs": [],
   "source": []
  }
 ],
 "metadata": {
  "kernelspec": {
   "display_name": "Python 2",
   "language": "python",
   "name": "python2"
  },
  "language_info": {
   "codemirror_mode": {
    "name": "ipython",
    "version": 2
   },
   "file_extension": ".py",
   "mimetype": "text/x-python",
   "name": "python",
   "nbconvert_exporter": "python",
   "pygments_lexer": "ipython2",
   "version": "2.7.6"
  }
 },
 "nbformat": 4,
 "nbformat_minor": 1
}
